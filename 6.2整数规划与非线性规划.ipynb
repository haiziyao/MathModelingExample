{
 "cells": [
  {
   "cell_type": "code",
   "execution_count": 2,
   "id": "56a17b68-69e1-42d9-91e6-0579c1db4383",
   "metadata": {
    "collapsed": true,
    "jupyter": {
     "outputs_hidden": true
    }
   },
   "outputs": [
    {
     "name": "stdout",
     "output_type": "stream",
     "text": [
      "Looking in indexes: https://mirrors.aliyun.com/pypi/simple\n",
      "Collecting cylp\n",
      "  Downloading https://mirrors.aliyun.com/pypi/packages/07/03/559e33d655b19b7a73fc5e8748a459b67014fc3b980eecff77896366fad0/cylp-0.92.3-cp312-cp312-win_amd64.whl (4.4 MB)\n",
      "     ---------------------------------------- 0.0/4.4 MB ? eta -:--:--\n",
      "     ---- ----------------------------------- 0.5/4.4 MB 4.2 MB/s eta 0:00:01\n",
      "     ----------- ---------------------------- 1.3/4.4 MB 3.7 MB/s eta 0:00:01\n",
      "     --------------------- ------------------ 2.4/4.4 MB 4.2 MB/s eta 0:00:01\n",
      "     ------------------------------- -------- 3.4/4.4 MB 4.5 MB/s eta 0:00:01\n",
      "     ---------------------------------------- 4.4/4.4 MB 4.4 MB/s eta 0:00:00\n",
      "Requirement already satisfied: numpy<2.0.0,>=1.5.0 in d:\\anaconda3\\lib\\site-packages (from cylp) (1.26.4)\n",
      "Requirement already satisfied: scipy>=0.10.0 in c:\\users\\17542\\appdata\\roaming\\python\\python312\\site-packages (from cylp) (1.16.0)\n",
      "Collecting hypothesis (from cylp)\n",
      "  Downloading https://mirrors.aliyun.com/pypi/packages/3c/78/db4fdc464219455f8dde90074660c3faf8429101b2d1299cac7d219e3176/hypothesis-6.135.26-py3-none-any.whl (521 kB)\n",
      "Requirement already satisfied: attrs>=22.2.0 in d:\\anaconda3\\lib\\site-packages (from hypothesis->cylp) (23.1.0)\n",
      "Collecting sortedcontainers<3.0.0,>=2.1.0 (from hypothesis->cylp)\n",
      "  Downloading https://mirrors.aliyun.com/pypi/packages/32/46/9cb0e58b2deb7f82b84065f37f3bffeb12413f947f9388e4cac22c4621ce/sortedcontainers-2.4.0-py2.py3-none-any.whl (29 kB)\n",
      "Installing collected packages: sortedcontainers, hypothesis, cylp\n",
      "Successfully installed cylp-0.92.3 hypothesis-6.135.26 sortedcontainers-2.4.0\n"
     ]
    }
   ],
   "source": [
    "!pip install cylp --prefer-binary\n"
   ]
  },
  {
   "cell_type": "markdown",
   "id": "14a627e1-27c3-4393-8d16-222c1d9989af",
   "metadata": {},
   "source": [
    "写在前面：\n",
    "\n",
    "    对于线性规划类题目，我们上节课使用了过多的linprog函数。\n",
    "    而linprog函数最大的缺点就是只能处理纯原生的线性规划，稍微加点别的就要gg。\n",
    "    所以从这一节开始，我们只用cvxpy"
   ]
  },
  {
   "cell_type": "code",
   "execution_count": 3,
   "id": "5b275c45-f264-4007-9bef-cdc673fdf21a",
   "metadata": {
    "scrolled": true
   },
   "outputs": [
    {
     "name": "stdout",
     "output_type": "stream",
     "text": [
      "Looking in indexes: https://mirrors.aliyun.com/pypi/simple\n",
      "Requirement already satisfied: cvxpy[cbc,glpk,scip] in d:\\anaconda3\\lib\\site-packages (1.6.6)\n",
      "Requirement already satisfied: osqp>=0.6.2 in c:\\users\\17542\\appdata\\roaming\\python\\python312\\site-packages (from cvxpy[cbc,glpk,scip]) (1.0.4)\n",
      "Requirement already satisfied: clarabel>=0.5.0 in c:\\users\\17542\\appdata\\roaming\\python\\python312\\site-packages (from cvxpy[cbc,glpk,scip]) (0.11.1)\n",
      "Requirement already satisfied: scs>=3.2.4.post1 in c:\\users\\17542\\appdata\\roaming\\python\\python312\\site-packages (from cvxpy[cbc,glpk,scip]) (3.2.7.post2)\n",
      "Requirement already satisfied: numpy>=1.21.6 in d:\\anaconda3\\lib\\site-packages (from cvxpy[cbc,glpk,scip]) (1.26.4)\n",
      "Requirement already satisfied: scipy>=1.11.0 in c:\\users\\17542\\appdata\\roaming\\python\\python312\\site-packages (from cvxpy[cbc,glpk,scip]) (1.16.0)\n",
      "Requirement already satisfied: cylp>=0.91.5 in d:\\anaconda3\\lib\\site-packages (from cvxpy[cbc,glpk,scip]) (0.92.3)\n",
      "Collecting cvxopt (from cvxpy[cbc,glpk,scip])\n",
      "  Downloading https://mirrors.aliyun.com/pypi/packages/9f/ad/edce467c24529c536fc9de787546a1c8eca293009383a872b6f638d22eae/cvxopt-1.3.2-cp312-cp312-win_amd64.whl (12.8 MB)\n",
      "     ---------------------------------------- 0.0/12.8 MB ? eta -:--:--\n",
      "     --- ------------------------------------ 1.0/12.8 MB 6.3 MB/s eta 0:00:02\n",
      "     ------- -------------------------------- 2.4/12.8 MB 6.4 MB/s eta 0:00:02\n",
      "     ----------- ---------------------------- 3.7/12.8 MB 6.2 MB/s eta 0:00:02\n",
      "     ---------------- ----------------------- 5.2/12.8 MB 6.5 MB/s eta 0:00:02\n",
      "     --------------------- ------------------ 6.8/12.8 MB 6.8 MB/s eta 0:00:01\n",
      "     ------------------------- -------------- 8.1/12.8 MB 6.8 MB/s eta 0:00:01\n",
      "     ---------------------------- ----------- 9.2/12.8 MB 6.6 MB/s eta 0:00:01\n",
      "     --------------------------------- ------ 10.7/12.8 MB 6.6 MB/s eta 0:00:01\n",
      "     ------------------------------------ --- 11.8/12.8 MB 6.4 MB/s eta 0:00:01\n",
      "     ---------------------------------------  12.6/12.8 MB 6.2 MB/s eta 0:00:01\n",
      "     ---------------------------------------- 12.8/12.8 MB 6.1 MB/s eta 0:00:00\n",
      "Collecting PySCIPOpt (from cvxpy[cbc,glpk,scip])\n",
      "  Downloading https://mirrors.aliyun.com/pypi/packages/57/42/eb359cb88e65e421f7078446a4d56083d667659a2662b9ea2c2f55b5a902/pyscipopt-5.5.0-cp312-cp312-win_amd64.whl (56.8 MB)\n",
      "     ---------------------------------------- 0.0/56.8 MB ? eta -:--:--\n",
      "      --------------------------------------- 0.8/56.8 MB 4.8 MB/s eta 0:00:12\n",
      "     - -------------------------------------- 1.6/56.8 MB 4.2 MB/s eta 0:00:14\n",
      "     - -------------------------------------- 2.6/56.8 MB 4.3 MB/s eta 0:00:13\n",
      "     -- ------------------------------------- 3.4/56.8 MB 4.3 MB/s eta 0:00:13\n",
      "     --- ------------------------------------ 4.5/56.8 MB 4.4 MB/s eta 0:00:12\n",
      "     --- ------------------------------------ 5.2/56.8 MB 4.4 MB/s eta 0:00:12\n",
      "     ---- ----------------------------------- 6.6/56.8 MB 4.5 MB/s eta 0:00:12\n",
      "     ---- ----------------------------------- 7.1/56.8 MB 4.3 MB/s eta 0:00:12\n",
      "     ----- ---------------------------------- 7.6/56.8 MB 4.1 MB/s eta 0:00:12\n",
      "     ------ --------------------------------- 8.7/56.8 MB 4.1 MB/s eta 0:00:12\n",
      "     ------ --------------------------------- 9.4/56.8 MB 4.1 MB/s eta 0:00:12\n",
      "     ------- -------------------------------- 10.5/56.8 MB 4.1 MB/s eta 0:00:12\n",
      "     ------- -------------------------------- 11.0/56.8 MB 4.0 MB/s eta 0:00:12\n",
      "     -------- ------------------------------- 11.8/56.8 MB 4.0 MB/s eta 0:00:12\n",
      "     -------- ------------------------------- 12.6/56.8 MB 3.9 MB/s eta 0:00:12\n",
      "     --------- ------------------------------ 13.4/56.8 MB 3.9 MB/s eta 0:00:12\n",
      "     --------- ------------------------------ 14.2/56.8 MB 3.9 MB/s eta 0:00:11\n",
      "     ---------- ----------------------------- 14.9/56.8 MB 3.9 MB/s eta 0:00:11\n",
      "     ----------- ---------------------------- 15.7/56.8 MB 3.9 MB/s eta 0:00:11\n",
      "     ----------- ---------------------------- 16.5/56.8 MB 3.9 MB/s eta 0:00:11\n",
      "     ------------ --------------------------- 17.3/56.8 MB 3.9 MB/s eta 0:00:11\n",
      "     ------------ --------------------------- 18.1/56.8 MB 3.8 MB/s eta 0:00:11\n",
      "     ------------- -------------------------- 18.6/56.8 MB 3.8 MB/s eta 0:00:10\n",
      "     ------------- -------------------------- 19.4/56.8 MB 3.8 MB/s eta 0:00:10\n",
      "     -------------- ------------------------- 19.9/56.8 MB 3.8 MB/s eta 0:00:10\n",
      "     -------------- ------------------------- 21.0/56.8 MB 3.8 MB/s eta 0:00:10\n",
      "     --------------- ------------------------ 21.8/56.8 MB 3.8 MB/s eta 0:00:10\n",
      "     ---------------- ----------------------- 22.8/56.8 MB 3.8 MB/s eta 0:00:09\n",
      "     ---------------- ----------------------- 23.6/56.8 MB 3.8 MB/s eta 0:00:09\n",
      "     ---------------- ----------------------- 24.1/56.8 MB 3.8 MB/s eta 0:00:09\n",
      "     ----------------- ---------------------- 24.9/56.8 MB 3.8 MB/s eta 0:00:09\n",
      "     ------------------ --------------------- 25.7/56.8 MB 3.8 MB/s eta 0:00:09\n",
      "     ------------------ --------------------- 26.7/56.8 MB 3.8 MB/s eta 0:00:08\n",
      "     ------------------- -------------------- 27.3/56.8 MB 3.8 MB/s eta 0:00:08\n",
      "     ------------------- -------------------- 28.0/56.8 MB 3.7 MB/s eta 0:00:08\n",
      "     -------------------- ------------------- 28.6/56.8 MB 3.7 MB/s eta 0:00:08\n",
      "     -------------------- ------------------- 29.4/56.8 MB 3.7 MB/s eta 0:00:08\n",
      "     --------------------- ------------------ 29.9/56.8 MB 3.7 MB/s eta 0:00:08\n",
      "     --------------------- ------------------ 30.7/56.8 MB 3.7 MB/s eta 0:00:08\n",
      "     ---------------------- ----------------- 31.5/56.8 MB 3.7 MB/s eta 0:00:07\n",
      "     ---------------------- ----------------- 32.2/56.8 MB 3.7 MB/s eta 0:00:07\n",
      "     ----------------------- ---------------- 33.0/56.8 MB 3.7 MB/s eta 0:00:07\n",
      "     ----------------------- ---------------- 33.8/56.8 MB 3.7 MB/s eta 0:00:07\n",
      "     ------------------------ --------------- 34.6/56.8 MB 3.7 MB/s eta 0:00:07\n",
      "     ------------------------- -------------- 35.7/56.8 MB 3.7 MB/s eta 0:00:06\n",
      "     ------------------------- -------------- 36.4/56.8 MB 3.7 MB/s eta 0:00:06\n",
      "     -------------------------- ------------- 37.2/56.8 MB 3.7 MB/s eta 0:00:06\n",
      "     -------------------------- ------------- 38.0/56.8 MB 3.7 MB/s eta 0:00:06\n",
      "     --------------------------- ------------ 38.8/56.8 MB 3.7 MB/s eta 0:00:05\n",
      "     --------------------------- ------------ 39.6/56.8 MB 3.7 MB/s eta 0:00:05\n",
      "     ---------------------------- ----------- 40.1/56.8 MB 3.7 MB/s eta 0:00:05\n",
      "     ---------------------------- ----------- 40.9/56.8 MB 3.7 MB/s eta 0:00:05\n",
      "     ----------------------------- ---------- 41.4/56.8 MB 3.7 MB/s eta 0:00:05\n",
      "     ----------------------------- ---------- 42.2/56.8 MB 3.7 MB/s eta 0:00:04\n",
      "     ------------------------------ --------- 43.0/56.8 MB 3.7 MB/s eta 0:00:04\n",
      "     ------------------------------ --------- 43.8/56.8 MB 3.7 MB/s eta 0:00:04\n",
      "     ------------------------------- -------- 44.8/56.8 MB 3.7 MB/s eta 0:00:04\n",
      "     -------------------------------- ------- 45.6/56.8 MB 3.7 MB/s eta 0:00:04\n",
      "     -------------------------------- ------- 46.4/56.8 MB 3.7 MB/s eta 0:00:03\n",
      "     --------------------------------- ------ 46.9/56.8 MB 3.7 MB/s eta 0:00:03\n",
      "     --------------------------------- ------ 47.4/56.8 MB 3.7 MB/s eta 0:00:03\n",
      "     --------------------------------- ------ 48.0/56.8 MB 3.6 MB/s eta 0:00:03\n",
      "     ---------------------------------- ----- 48.8/56.8 MB 3.6 MB/s eta 0:00:03\n",
      "     ---------------------------------- ----- 49.3/56.8 MB 3.6 MB/s eta 0:00:03\n",
      "     ----------------------------------- ---- 50.1/56.8 MB 3.6 MB/s eta 0:00:02\n",
      "     ----------------------------------- ---- 50.6/56.8 MB 3.6 MB/s eta 0:00:02\n",
      "     ------------------------------------ --- 51.4/56.8 MB 3.6 MB/s eta 0:00:02\n",
      "     ------------------------------------ --- 52.2/56.8 MB 3.6 MB/s eta 0:00:02\n",
      "     ------------------------------------- -- 53.0/56.8 MB 3.6 MB/s eta 0:00:02\n",
      "     ------------------------------------- -- 53.7/56.8 MB 3.6 MB/s eta 0:00:01\n",
      "     -------------------------------------- - 54.8/56.8 MB 3.6 MB/s eta 0:00:01\n",
      "     ---------------------------------------  55.6/56.8 MB 3.6 MB/s eta 0:00:01\n",
      "     ---------------------------------------  56.6/56.8 MB 3.6 MB/s eta 0:00:01\n",
      "     ---------------------------------------- 56.8/56.8 MB 3.6 MB/s eta 0:00:00\n",
      "Requirement already satisfied: cffi in c:\\users\\17542\\appdata\\roaming\\python\\python312\\site-packages (from clarabel>=0.5.0->cvxpy[cbc,glpk,scip]) (1.17.1)\n",
      "Requirement already satisfied: hypothesis in d:\\anaconda3\\lib\\site-packages (from cylp>=0.91.5->cvxpy[cbc,glpk,scip]) (6.135.26)\n",
      "Requirement already satisfied: jinja2 in c:\\users\\17542\\appdata\\roaming\\python\\python312\\site-packages (from osqp>=0.6.2->cvxpy[cbc,glpk,scip]) (3.1.6)\n",
      "Requirement already satisfied: setuptools in c:\\users\\17542\\appdata\\roaming\\python\\python312\\site-packages (from osqp>=0.6.2->cvxpy[cbc,glpk,scip]) (80.9.0)\n",
      "Requirement already satisfied: joblib in c:\\users\\17542\\appdata\\roaming\\python\\python312\\site-packages (from osqp>=0.6.2->cvxpy[cbc,glpk,scip]) (1.5.1)\n",
      "Requirement already satisfied: pycparser in c:\\users\\17542\\appdata\\roaming\\python\\python312\\site-packages (from cffi->clarabel>=0.5.0->cvxpy[cbc,glpk,scip]) (2.22)\n",
      "Requirement already satisfied: attrs>=22.2.0 in d:\\anaconda3\\lib\\site-packages (from hypothesis->cylp>=0.91.5->cvxpy[cbc,glpk,scip]) (23.1.0)\n",
      "Requirement already satisfied: sortedcontainers<3.0.0,>=2.1.0 in d:\\anaconda3\\lib\\site-packages (from hypothesis->cylp>=0.91.5->cvxpy[cbc,glpk,scip]) (2.4.0)\n",
      "Requirement already satisfied: MarkupSafe>=2.0 in c:\\users\\17542\\appdata\\roaming\\python\\python312\\site-packages (from jinja2->osqp>=0.6.2->cvxpy[cbc,glpk,scip]) (3.0.2)\n",
      "Installing collected packages: PySCIPOpt, cvxopt\n",
      "Successfully installed PySCIPOpt-5.5.0 cvxopt-1.3.2\n"
     ]
    }
   ],
   "source": [
    "# 重新安装 cvxpy 并指定 glpk 支持\n",
    "#!pip uninstall cvxpy cvxopt -y\n",
    "!pip install cvxpy[cbc,glpk,scip]"
   ]
  },
  {
   "cell_type": "code",
   "execution_count": 4,
   "id": "968a6d83-d781-434d-b761-4bcd5e1036b2",
   "metadata": {},
   "outputs": [
    {
     "name": "stdout",
     "output_type": "stream",
     "text": [
      "最优解状态: optimal\n",
      "最优值: 350.0\n",
      "最优解: [2. 3.]\n"
     ]
    }
   ],
   "source": [
    "import cvxpy as cp\n",
    "import numpy as np\n",
    "import swiglpk\n",
    "# 定义目标函数系数\n",
    "c = np.array([40, 90])\n",
    "\n",
    "# 定义约束矩阵和约束向量\n",
    "A = np.array([[9, 7], [-7, -20]])\n",
    "b = np.array([56, -70])\n",
    "\n",
    "# 定义决策变量（整数变量）\n",
    "x = cp.Variable(2, integer=True)\n",
    "\n",
    "# 定义目标函数（使用 @ 进行矩阵乘法，或 cp.sum(c * x)）\n",
    "obj = cp.Minimize(c @ x)  # 修正：使用 @ 进行矩阵乘法\n",
    "\n",
    "# 定义约束条件\n",
    "cons = [A @ x <= b, x >= 0]  # 修正：使用 @ 进行矩阵乘法\n",
    "\n",
    "# 创建问题实例\n",
    "prob = cp.Problem(obj, cons)\n",
    "\n",
    "# 求解问题（修正：添加括号调用 solve() 方法）\n",
    "prob.solve(\n",
    "    solver=cp.GLPK_MI,\n",
    "    solver_opts={\n",
    "        \"glpk_path\": r\"C:\\HOME_PATH_MY\\winglpk-4.65\\glpk-4.65\\w64\\glpsol.exe\"\n",
    "    }\n",
    ")\n",
    "  # 指定支持整数规划的求解器,这个玩意不管用直接换一个\n",
    "#prob.solve(solver=cp.CBC)\n",
    "# 输出结果\n",
    "print(\"最优解状态:\", prob.status)\n",
    "print(\"最优值:\", prob.value)\n",
    "print(\"最优解:\", x.value)"
   ]
  },
  {
   "cell_type": "markdown",
   "id": "4d9ddd96-17e9-4a1a-be61-92d9bff33a78",
   "metadata": {},
   "source": [
    "* 指派问题"
   ]
  },
  {
   "cell_type": "code",
   "execution_count": 2,
   "id": "486c8fd1-dfec-46f2-b952-682fd91b5b9a",
   "metadata": {},
   "outputs": [],
   "source": [
    "import cvxpy as cp\n",
    "import numpy as np"
   ]
  },
  {
   "cell_type": "code",
   "execution_count": 4,
   "id": "3abda044-e1e0-4158-b0f0-e2d0116b7682",
   "metadata": {},
   "outputs": [
    {
     "name": "stdout",
     "output_type": "stream",
     "text": [
      "最优解状态: optimal\n",
      "最优值: 34.0\n",
      "最优解: [[0. 0. 1. 0. 0.]\n",
      " [0. 1. 0. 0. 0.]\n",
      " [1. 0. 0. 0. 0.]\n",
      " [0. 0. 0. 1. 0.]\n",
      " [0. 0. 0. 0. 1.]]\n"
     ]
    }
   ],
   "source": [
    "c = np.array([[4,8,7,15,12],\n",
    "              [7,9,17,14,10],\n",
    "              [6,9,12,8,7],\n",
    "              [6,7,14,6,bbb10],\n",
    "              [6,9,12,10,6]])\n",
    "x = cp.Variable((5,5),integer=True)\n",
    "obj = cp.Minimize(cp.sum(cp.multiply(c,x)))\n",
    "con = [0<=x,x<=1,cp.sum(x,axis=0,keepdims=True)==1,cp.sum(x,axis=1,keepdims=True)==1]\n",
    "prob = cp.Problem(obj,con)\n",
    "prob.solve(solver='GLPK_MI')\n",
    "print(\"最优解状态:\", prob.status)\n",
    "print(\"最优值:\", prob.value)\n",
    "print(\"最优解:\", x.value)"
   ]
  },
  {
   "cell_type": "markdown",
   "id": "37fbe3a0-9223-4832-9631-4abc01ab8b94",
   "metadata": {},
   "source": [
    "2) 人数和任务数不等的指派问题\n",
    "一些指派问题中,可能出现人数和任务数不相等的情况,对于这样的指派问题,\n",
    "通常的处理方式为:若人数少于任务数,则可添加一些虚拟的“人”,这些虚拟的\n",
    "人完成各项任务的效率取为0,理解为这些效率值实际上不会发生,若人数多于任\n",
    "务数,则可添加一些虚拟的“任务”,这些虚拟的任务被每个人完成的效率同样也取\n",
    "为0.\n",
    "3) 一个人可完成多项任务的指派问题\n",
    "一些指派问题中,可能出现要求某人完成几项任务的情形,对于这样的指派问\n",
    "题,可将该人看作相同的几个人来接受指派,只需令其完成同一项任务的效率都一\n",
    "样即可.\n",
    "4) 某项任务一定不能由某人完成的指派问题\n",
    "一些指派问题中,可能出现某人不能完成某项任务的情形,对于这样的指派问\n",
    "题,只需将相应的效率值(成本型)取成足够大的数即可.\n"
   ]
  },
  {
   "cell_type": "markdown",
   "id": "649b11ae-3a0a-4b6c-af94-37ca4b64fead",
   "metadata": {},
   "source": [
    "* 非线性规划"
   ]
  },
  {
   "cell_type": "code",
   "execution_count": 9,
   "id": "568be04f-aa91-4af8-b566-892a93404392",
   "metadata": {},
   "outputs": [
    {
     "name": "stdout",
     "output_type": "stream",
     "text": [
      "-0.7736842105263159 \n",
      " True \n",
      " [0.9 0.9 0.1]\n"
     ]
    }
   ],
   "source": [
    "# 我们这里继续学习一个新函数，到这里我们已经学习了三个函数了\n",
    "from scipy.optimize import minimize\n",
    "from numpy import ones\n",
    "def obj(x):     #注意，依旧是只能求最小值\n",
    "    x1,x2,x3 = x\n",
    "    return ((2+x1)/(1+x2)) - 3*x1 +4*x3  \n",
    "LB = [0.1]*3;\n",
    "UB = [0.9]*3;\n",
    "bound = tuple(zip(LB,UB))\n",
    "result = minimize(obj,ones(3),bounds = bound) #这里的ones确定了维数,给的是一个初始值的参考\n",
    "print(f\"{result.fun} \\n {result.success} \\n {result.x}\")"
   ]
  },
  {
   "attachments": {},
   "cell_type": "markdown",
   "id": "be43d052-ab8e-4998-a390-591c4c0a11f4",
   "metadata": {},
   "source": [
    "* 做一道非线性整数规划\n",
    "![1](./img/Snipaste_2025-07-07_13-29-00.png)"
   ]
  },
  {
   "cell_type": "code",
   "execution_count": 18,
   "id": "35e967e0-d07b-4379-9e72-4b17ff07e780",
   "metadata": {},
   "outputs": [
    {
     "name": "stdout",
     "output_type": "stream",
     "text": [
      "-16.9999999985\n",
      "[ 4.00000000e+00  1.00000000e+00 -2.50000021e-10 -2.50000021e-10\n",
      " -2.50000021e-10]\n"
     ]
    }
   ],
   "source": [
    "import cvxpy as cp\n",
    "import numpy as np\n",
    "c1 = np.array([1,1,3,4,2])\n",
    "c2 = np.array([-8,-2,-3,-1,-2])\n",
    "a = np.array([[1,1,1,1,1],[1,2,2,1,6],[2,1,6,0,0],[0,0,1,1,5]])\n",
    "b = np.array([400,800,200,200])\n",
    "x = cp.Variable(5,integer = True)\n",
    "obj = cp.Minimize(c1@(x**2)+c2@x)\n",
    "conf = [0<=x,x<=99,a@x<=b]\n",
    "prob = cp.Problem(obj,conf)\n",
    "prob.solve()\n",
    "print(f\"{prob.value}\\n{x.value}\")"
   ]
  }
 ],
 "metadata": {
  "kernelspec": {
   "display_name": "Python [conda env:base] *",
   "language": "python",
   "name": "conda-base-py"
  },
  "language_info": {
   "codemirror_mode": {
    "name": "ipython",
    "version": 3
   },
   "file_extension": ".py",
   "mimetype": "text/x-python",
   "name": "python",
   "nbconvert_exporter": "python",
   "pygments_lexer": "ipython3",
   "version": "3.12.7"
  }
 },
 "nbformat": 4,
 "nbformat_minor": 5
}
