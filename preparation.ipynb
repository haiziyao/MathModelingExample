{
 "cells": [
  {
   "cell_type": "markdown",
   "id": "1ea635cd-bd62-4d0e-9ea0-ecf89c1dda9f",
   "metadata": {},
   "source": [
    "#### 重新复习几个函数\n"
   ]
  },
  {
   "cell_type": "code",
   "execution_count": null,
   "id": "c6ba8064-c015-4926-b731-bdb5f50cf2e6",
   "metadata": {},
   "outputs": [],
   "source": [
    "map()\n",
    "reduce()\n",
    "filter()\n",
    "zip()\n",
    "enumerate()\n",
    "列表推导式\n",
    "lambda 表达式\n"
   ]
  },
  {
   "cell_type": "code",
   "execution_count": null,
   "id": "e696f6fc-8da5-4c4d-9269-a5f3f871f7e3",
   "metadata": {},
   "outputs": [],
   "source": []
  },
  {
   "cell_type": "code",
   "execution_count": null,
   "id": "c0127085-201a-47fe-b274-064c2247bb40",
   "metadata": {},
   "outputs": [],
   "source": []
  },
  {
   "cell_type": "code",
   "execution_count": null,
   "id": "39762d48-c98a-4a2c-a70d-e879080c3575",
   "metadata": {},
   "outputs": [],
   "source": []
  },
  {
   "cell_type": "markdown",
   "id": "8886bda3-0541-4683-8d8d-5b0bf7e9166c",
   "metadata": {},
   "source": [
    "### sympy模块"
   ]
  },
  {
   "cell_type": "code",
   "execution_count": 1,
   "id": "1433c95c-d0cb-4e10-b0b4-64d41052735f",
   "metadata": {},
   "outputs": [
    {
     "ename": "NameError",
     "evalue": "name 'sympy' is not defined",
     "output_type": "error",
     "traceback": [
      "\u001b[31m---------------------------------------------------------------------------\u001b[39m",
      "\u001b[31mNameError\u001b[39m                                 Traceback (most recent call last)",
      "\u001b[36mCell\u001b[39m\u001b[36m \u001b[39m\u001b[32mIn[1]\u001b[39m\u001b[32m, line 1\u001b[39m\n\u001b[32m----> \u001b[39m\u001b[32m1\u001b[39m sympy.integrals\n",
      "\u001b[31mNameError\u001b[39m: name 'sympy' is not defined"
     ]
    }
   ],
   "source": [
    "# sympy.integrals"
   ]
  },
  {
   "cell_type": "markdown",
   "id": "3c61a655-db31-420a-874a-aa8169e8e012",
   "metadata": {},
   "source": [
    "#### Scipy模块"
   ]
  },
  {
   "cell_type": "code",
   "execution_count": null,
   "id": "7ac3b664-272b-4136-b1b4-3e2e86c78c40",
   "metadata": {},
   "outputs": [],
   "source": []
  }
 ],
 "metadata": {
  "kernelspec": {
   "display_name": "Python [conda env:base] *",
   "language": "python",
   "name": "conda-base-py"
  },
  "language_info": {
   "codemirror_mode": {
    "name": "ipython",
    "version": 3
   },
   "file_extension": ".py",
   "mimetype": "text/x-python",
   "name": "python",
   "nbconvert_exporter": "python",
   "pygments_lexer": "ipython3",
   "version": "3.12.7"
  }
 },
 "nbformat": 4,
 "nbformat_minor": 5
}
