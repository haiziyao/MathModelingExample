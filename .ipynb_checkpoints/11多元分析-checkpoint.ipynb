{
 "cells": [
  {
   "cell_type": "markdown",
   "id": "55f51acb-0806-41fc-bccf-38689107c27f",
   "metadata": {},
   "source": [
    " #### **判别分析法**"
   ]
  },
  {
   "cell_type": "markdown",
   "id": "9eecfa05-9057-4127-84ce-64a1c315e284",
   "metadata": {},
   "source": [
    "* **距离判别法**\n",
    "    距离判别法就是建立待判定对象到A的距离 d(ac, Ai),然后根据距离最近原则进行判别, 即判别函数 W(i, æ) = d(x, A;). 若 W (k, æ) = min{W(i,2)1,2,., r}, x∈ Ak.距离 d(x, A4) 一般采用 Mahalanobis 距离 (马氏距离).\n",
    "![](./img/Snipaste_2025-07-09_12-00-53.png)"
   ]
  },
  {
   "cell_type": "code",
   "execution_count": 1,
   "id": "5ffe151b-9c94-46ef-8772-417a2d20b08b",
   "metadata": {},
   "outputs": [
    {
     "name": "stdout",
     "output_type": "stream",
     "text": [
      "马氏距离分类结果: [2. 2. 1.]\n",
      "马氏距离已知样本的误判率: 0.0\n",
      "欧氏距离分类结果: [2. 1. 2.]\n",
      "欧氏距离已知样本的误判率: 0.0\n"
     ]
    }
   ],
   "source": [
    "import numpy as np\n",
    "from sklearn.neighbors import KNeighborsClassifier\n",
    "\n",
    "# 已知样本数据（15个样本，每个样本2个特征）\n",
    "x0 = np.array([\n",
    "    [1.24, 1.27], [1.36, 1.74], [1.38, 1.64], [1.38, 1.82], [1.38, 1.90],\n",
    "    [1.40, 1.70], [1.48, 1.82], [1.54, 1.82], [1.56, 2.08], [1.14, 1.78],\n",
    "    [1.18, 1.96], [1.20, 1.86], [1.26, 2.00], [1.28, 2.00], [1.30, 1.96]\n",
    "])\n",
    "\n",
    "# 待分类样本（3个样本）\n",
    "x = np.array([\n",
    "    [1.24, 1.80], [1.28, 1.84], [1.40, 2.04]\n",
    "])\n",
    "\n",
    "# 已知样本的类别标签（前9个为类别1，后6个为类别2）\n",
    "g = np.hstack([np.ones(9), 2 * np.ones(6)])\n",
    "\n",
    "# 计算协方差矩阵（用于马氏距离）\n",
    "v = np.cov(x0.T)\n",
    "\n",
    "# 使用马氏距离的KNN分类器\n",
    "# 这里的n_neighbors这个参数比较难理解，建议自己去查一下\n",
    "knn = KNeighborsClassifier(n_neighbors=2, metric='mahalanobis', metric_params={'V': v})\n",
    "knn.fit(x0, g)\n",
    "pre = knn.predict(x)\n",
    "print(\"马氏距离分类结果:\", pre)\n",
    "print(\"马氏距离已知样本的误判率:\", 1 - knn.score(x0, g))   \n",
    "\n",
    "# 使用欧氏距离的KNN分类器\n",
    "knn2 = KNeighborsClassifier(n_neighbors=2)  # 默认metric='euclidean'\n",
    "knn2.fit(x0, g)\n",
    "pre2 = knn2.predict(x)\n",
    "print(\"欧氏距离分类结果:\", pre2)\n",
    "print(\"欧氏距离已知样本的误判率:\", 1 - knn2.score(x0, g))  "
   ]
  },
  {
   "cell_type": "markdown",
   "id": "adb32872-cc19-4d7d-bffd-4567e85b8580",
   "metadata": {},
   "source": [
    "![](./img/Snipaste_2025-07-09_12-25-07.png)"
   ]
  },
  {
   "cell_type": "code",
   "execution_count": 2,
   "id": "9411575f-356f-4b3f-8b26-b8d44972a4af",
   "metadata": {},
   "outputs": [
    {
     "name": "stdout",
     "output_type": "stream",
     "text": [
      "马氏距离分类结果: [1 1]\n",
      "马氏距离已知样本的误判率: 0.15000000000000002\n"
     ]
    }
   ],
   "source": [
    "import numpy as np\n",
    "import pandas as pd\n",
    "from sklearn.neighbors import KNeighborsClassifier\n",
    "a = pd.read_excel(\"./10.1心电图数据.xlsx\")\n",
    "b = a.values\n",
    " \n",
    "x0 = b[:-2,1:-1].astype(float)\n",
    "x = b[-2:,1:-1]\n",
    "g = b[:-2,-1:].astype(int).ravel()\n",
    "v = np.cov(x0.T)\n",
    "\n",
    "# 使用马氏距离的KNN分类器\n",
    "# 这里的n_neighbors这个参数比较难理解，建议自己去查一下\n",
    "knn = KNeighborsClassifier(n_neighbors=3, metric='mahalanobis', metric_params={'V': v})\n",
    "knn.fit(x0, g)\n",
    "pre = knn.predict(x)\n",
    "print(\"马氏距离分类结果:\", pre)\n",
    "print(\"马氏距离已知样本的误判率:\", 1 - knn.score(x0, g))  "
   ]
  },
  {
   "cell_type": "markdown",
   "id": "227ce075-4d60-46fd-ac35-939364724146",
   "metadata": {},
   "source": [
    "* **Fisher判别法**"
   ]
  },
  {
   "cell_type": "code",
   "execution_count": 3,
   "id": "1984f68c-17e9-4a1e-ae07-1c0749f49457",
   "metadata": {},
   "outputs": [
    {
     "name": "stdout",
     "output_type": "stream",
     "text": [
      "判别结果为: [2. 2. 2.]\n",
      "已知样本的误判率为: 0.0\n"
     ]
    }
   ],
   "source": [
    "# 11.1题  你别管看懂了算法没有,我只能说  会抄\n",
    "import numpy as np\n",
    "from sklearn.discriminant_analysis import LinearDiscriminantAnalysis as LDA\n",
    "\n",
    "# 已知样本数据（15个样本，每个样本2个特征）\n",
    "x0 = np.array([\n",
    "    [1.24, 1.27], [1.36, 1.74], [1.38, 1.64], [1.38, 1.82], [1.38, 1.90],\n",
    "    [1.40, 1.70], [1.48, 1.82], [1.54, 1.82], [1.56, 2.08], [1.14, 1.78],\n",
    "    [1.18, 1.96], [1.20, 1.86], [1.26, 2.00], [1.28, 2.00], [1.30, 1.96]\n",
    "])\n",
    "# 待分类样本（3个样本）\n",
    "x = np.array([[1.24, 1.80], [1.28, 1.84], [1.40, 2.04]])\n",
    "# 已知样本的类别标签（前9个为类别1，后6个为类别2）\n",
    "g = np.hstack([np.ones(9), 2 * np.ones(6)])\n",
    "\n",
    "clf = LDA()\n",
    "clf.fit(x0,g)\n",
    "print(\"判别结果为:\", clf.predict (x))\n",
    "print(\"已知样本的误判率为:\",1-clf.score (x0,g))"
   ]
  },
  {
   "cell_type": "code",
   "execution_count": 4,
   "id": "e3fb9171-2c41-4758-b62b-f92ca191a197",
   "metadata": {},
   "outputs": [
    {
     "name": "stdout",
     "output_type": "stream",
     "text": [
      "判别结果为: [1 2]\n",
      "已知样本的误判率为: 0.0\n"
     ]
    }
   ],
   "source": [
    "import numpy as np\n",
    "import pandas as pd\n",
    "from sklearn.neighbors import KNeighborsClassifier\n",
    "a = pd.read_excel(\"./10.1心电图数据.xlsx\")\n",
    "b = a.values\n",
    "x0 = b[:-2,1:-1].astype(float)\n",
    "x = b[-2:,1:-1]\n",
    "g = b[:-2,-1:].astype(int).ravel()\n",
    "clf = LDA()\n",
    "clf.fit(x0,g)\n",
    "print(\"判别结果为:\", clf.predict (x))\n",
    "print(\"已知样本的误判率为:\",1-clf.score (x0,g))"
   ]
  },
  {
   "cell_type": "markdown",
   "id": "a705dfd5-b0a6-4b84-af34-47b4fe7ff30a",
   "metadata": {},
   "source": [
    "* **贝叶斯判别法**"
   ]
  },
  {
   "cell_type": "code",
   "execution_count": null,
   "id": "1453e450-3635-4fb1-94d5-d40f4c374e17",
   "metadata": {},
   "outputs": [],
   "source": [
    "import numpy as np\n",
    "from sklearn.naive_bayes import GaussianNB\n",
    "# 已知样本数据（15个样本，每个样本2个特征）\n",
    "x0 = np.array([\n",
    "    [1.24, 1.27], [1.36, 1.74], [1.38, 1.64], [1.38, 1.82], [1.38, 1.90],\n",
    "    [1.40, 1.70], [1.48, 1.82], [1.54, 1.82], [1.56, 2.08], [1.14, 1.78],\n",
    "    [1.18, 1.96], [1.20, 1.86], [1.26, 2.00], [1.28, 2.00], [1.30, 1.96]\n",
    "])\n",
    "# 待分类样本（3个样本）\n",
    "x = np.array([\n",
    "    [1.24, 1.80], [1.28, 1.84], [1.40, 2.04]\n",
    "])\n",
    "# 已知样本的类别标签（前9个为类别1，后6个为类别2）\n",
    "g = np.hstack([np.ones(9), 2 * np.ones(6)])\n",
    "\n",
    "clf = GaussianNB()\n",
    "clf.fit(x0,g)\n",
    "print(\"判别结果为:\", clf.predict (x))\n",
    "print(\"已知样本的误判率为:\",1-clf.score (x0,g))"
   ]
  },
  {
   "cell_type": "code",
   "execution_count": null,
   "id": "75698e7a-ac1c-4b00-b376-a1b6232603de",
   "metadata": {},
   "outputs": [],
   "source": [
    "import numpy as np\n",
    "import pandas as pd\n",
    "from sklearn.neighbors import KNeighborsClassifier\n",
    "a = pd.read_excel(\"./10.1心电图数据.xlsx\")\n",
    "b = a.values\n",
    "x0 = b[:-2,1:-1].astype(float)\n",
    "x = b[-2:,1:-1]\n",
    "g = b[:-2,-1:].astype(int).ravel()\n",
    "clf = GaussianNB()\n",
    "clf.fit(x0,g)\n",
    "print(\"判别结果为:\", clf.predict (x))\n",
    "print(\"已知样本的误判率为:\",1-clf.score (x0,g))"
   ]
  },
  {
   "cell_type": "markdown",
   "id": "b5838bbd-d280-49ac-8307-016a8f333025",
   "metadata": {},
   "source": [
    "* **判别准则的评价**\n",
    "    * **回代误判率**\n",
    "    * **交叉误判率**"
   ]
  },
  {
   "cell_type": "code",
   "execution_count": 7,
   "id": "cacb0ca7-0da0-47cc-ae38-357f5624fbd1",
   "metadata": {},
   "outputs": [
    {
     "name": "stdout",
     "output_type": "stream",
     "text": [
      "准确率为[0.9 0.8]\n"
     ]
    }
   ],
   "source": [
    "#线性交叉误判率\n",
    "import numpy as np\n",
    "import pandas as pd\n",
    "from sklearn.discriminant_analysis import LinearDiscriminantAnalysis\n",
    "from sklearn.model_selection import cross_val_score\n",
    "a = pd.read_excel(\"./10.1心电图数据.xlsx\")\n",
    "b = a.values\n",
    "x0 = b[:-2,1:-1].astype(float)\n",
    "g = b[:-2,-1:].astype(int).ravel()\n",
    "model = LinearDiscriminantAnalysis()\n",
    "print(f\"准确率为{cross_val_score(model,x0,g,cv=2)}\")"
   ]
  },
  {
   "cell_type": "markdown",
   "id": "2b36884c-6c90-4fe5-9670-329016f5b496",
   "metadata": {},
   "source": [
    "#### **主成分分析法**\n",
    "[查看reference](./Method_Reference/PCA.ipynb)\n",
    "* **主成分的目的是降维, 减少变量的个数,因此一般选取少量的主成分(一般不超过6个),只要累积贡献率超过85%即可**"
   ]
  },
  {
   "cell_type": "markdown",
   "id": "d6dff5e8-56ee-4130-9329-cd7e563ebbc9",
   "metadata": {},
   "source": [
    "![](./img/Snipaste_2025-07-09_14-05-08.png)"
   ]
  },
  {
   "cell_type": "code",
   "execution_count": 11,
   "id": "32706324-43b5-42c3-b2bb-b483d272eb07",
   "metadata": {},
   "outputs": [
    {
     "name": "stdout",
     "output_type": "stream",
     "text": [
      "特征值为: [110.00413886  25.32447973   1.56804807]\n",
      "各主成分的贡献率: [0.80355601 0.18498975 0.01145425]\n",
      "奇异值为: [31.46485738 15.09703009  3.75665179]\n",
      "各主成分的系数: \n",
      " [[ 0.55915657  0.42128705  0.71404562]\n",
      " [ 0.82767368 -0.33348264 -0.45138188]\n",
      " [ 0.04796048  0.84338992 -0.53515721]]\n",
      "下面直接计算特征值和特征向量,和库函数进行对比\n",
      "------------------\n",
      "\n",
      "特征值为: [110.00413886  25.32447973   1.56804807]\n",
      "特征向量为:\n",
      " [[ 0.55915657  0.82767368 -0.04796048]\n",
      " [ 0.42128705 -0.33348264 -0.84338992]\n",
      " [ 0.71404562 -0.45138188  0.53515721]]\n",
      "各主成分的贡献率为: [0.80355601 0.18498975 0.01145425]\n"
     ]
    }
   ],
   "source": [
    "import numpy as np\n",
    "from sklearn.decomposition import PCA\n",
    "# 根据表11.3数据创建NumPy数组\n",
    "# 列顺序：序号 | 身高(cm) | 胸围(cm) | 体重(kg)\n",
    "data = np.array([\n",
    "    [1, 149.5, 69.5, 38.5],    # 样本1\n",
    "    [2, 162.5, 77.0, 55.5],     # 样本2\n",
    "    [3, 162.7, 78.5, 50.8],     # 样本3\n",
    "    [4, 162.2, 87.5, 65.5],     # 样本4\n",
    "    [5, 156.5, 74.5, 49.0],     # 样本5\n",
    "    [6, 156.1, 74.5, 45.5],     # 样本6\n",
    "    [7, 172.0, 76.5, 51.0],     # 样本7\n",
    "    [8, 173.2, 81.5, 59.5],     # 样本8\n",
    "    [9, 159.5, 74.5, 43.5],     # 样本9\n",
    "    [10, 157.7, 79.0, 53.5]     # 样本10\n",
    "])\n",
    "\n",
    "b=data[:,1:4] #构造数据矩阵\n",
    "md = PCA().fit(b)\n",
    "print(\"特征值为:\",md.explained_variance_)\n",
    "print(\"各主成分的贡献率:\",md.explained_variance_ratio_)\n",
    "print(\"奇异值为:\",md.singular_values_)\n",
    "print(\"各主成分的系数: \\n\",md.components_) #每行是一个主成分\n",
    "\n",
    "print(\"下面直接计算特征值和特征向量,和库函数进行对比\")\n",
    "print(\"------------------\\n\")\n",
    "cf=np.cov(b.T) #计算协方差阵\n",
    "c, d=np.linalg.eig(cf) #求特征值和特征向量\n",
    "print(\"特征值为:\",c)\n",
    "print(\"特征向量为:\\n\",d)\n",
    "print(\"各主成分的贡献率为:\",c/np.sum(c))"
   ]
  },
  {
   "cell_type": "markdown",
   "id": "ef6ce6e7-3cb2-41f6-8e00-9f73118ce8d5",
   "metadata": {},
   "source": [
    "#### **因子分析**"
   ]
  },
  {
   "cell_type": "markdown",
   "id": "cbd58c10-0730-4005-8748-dbb3ead13ac9",
   "metadata": {},
   "source": [
    "**因子分析**\n",
    "![](./img/Snipaste_2025-07-09_15-43-51.png)"
   ]
  },
  {
   "cell_type": "markdown",
   "id": "64469a36-08dc-433d-8ef8-3b9cf3f68d32",
   "metadata": {},
   "source": [
    " "
   ]
  },
  {
   "cell_type": "code",
   "execution_count": null,
   "id": "56afef26-c731-4bd4-9412-118081f93ff6",
   "metadata": {},
   "outputs": [],
   "source": []
  },
  {
   "cell_type": "code",
   "execution_count": null,
   "id": "9cf816db-15d9-41e4-9e56-23228d9f024b",
   "metadata": {},
   "outputs": [],
   "source": []
  },
  {
   "cell_type": "code",
   "execution_count": null,
   "id": "cad8fb11-9b7f-433e-a748-535f9df4c670",
   "metadata": {},
   "outputs": [],
   "source": []
  },
  {
   "cell_type": "code",
   "execution_count": null,
   "id": "e197c7d0-1c9a-4d15-9761-291934a0ef89",
   "metadata": {},
   "outputs": [],
   "source": []
  },
  {
   "cell_type": "code",
   "execution_count": null,
   "id": "2efb5da9-42e6-44cb-a928-25495e86cd84",
   "metadata": {},
   "outputs": [],
   "source": []
  },
  {
   "cell_type": "markdown",
   "id": "c847f7da-34a4-4a59-9867-cb91e042422e",
   "metadata": {},
   "source": [
    "***这里挂一张图片，理解一下PCA和因子分析的区别***\n",
    "![](./img/Snipaste_2025-07-09_15-33-29.png)"
   ]
  }
 ],
 "metadata": {
  "kernelspec": {
   "display_name": "Python [conda env:base] *",
   "language": "python",
   "name": "conda-base-py"
  },
  "language_info": {
   "codemirror_mode": {
    "name": "ipython",
    "version": 3
   },
   "file_extension": ".py",
   "mimetype": "text/x-python",
   "name": "python",
   "nbconvert_exporter": "python",
   "pygments_lexer": "ipython3",
   "version": "3.12.7"
  }
 },
 "nbformat": 4,
 "nbformat_minor": 5
}
