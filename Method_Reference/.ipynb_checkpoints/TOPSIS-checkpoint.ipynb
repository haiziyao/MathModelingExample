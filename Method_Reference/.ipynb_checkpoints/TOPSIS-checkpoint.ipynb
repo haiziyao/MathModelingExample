{
 "cells": [
  {
   "cell_type": "code",
   "execution_count": 4,
   "id": "e47b1fda-43c4-46f3-be29-cb39425dbc43",
   "metadata": {},
   "outputs": [],
   "source": [
    "import numpy as np"
   ]
  },
  {
   "cell_type": "code",
   "execution_count": 7,
   "id": "f550d702-717f-4bf5-b4ab-07772db50d88",
   "metadata": {},
   "outputs": [],
   "source": [
    "n = 3 #参评数量\n",
    "m = 4 #指标数量\n",
    "#类型矩阵,1极大型,2极小型,3中间型,4区间型\n",
    "kind = [1,2,3,4]\n",
    "#原数据矩阵\n",
    "A = np.array([[9,10,175,120],[8,7,164,80],[6,3,157,90]])\n",
    "mid = 165\n",
    "left,right = 90,100"
   ]
  },
  {
   "cell_type": "markdown",
   "id": "2a5379f9-e1c9-4d5b-a1c5-65e523aea3fa",
   "metadata": {},
   "source": [
    "#### 简要说明\n",
    "下面代码你可以很清楚的看到用的全是\n",
    "``` py\n",
    "ans.append([1])\n",
    "# 而不是\n",
    "ans.append(1)\n",
    "```"
   ]
  },
  {
   "cell_type": "code",
   "execution_count": 14,
   "id": "1a131e4e-8625-4b23-aba1-e9f740c84d80",
   "metadata": {},
   "outputs": [],
   "source": [
    "def min2max(arr):\n",
    "    arr = list(arr)\n",
    "    maxx = max(arr)\n",
    "    ans =[[maxx-e] for e in arr]\n",
    "    return np.array(ans)\n",
    "def mid2max(mid,arr):\n",
    "    arr = list(arr)\n",
    "    gap = [abs(e-mid) for e in arr]\n",
    "    M = max(gap)\n",
    "    if M == 0:\n",
    "        M=1\n",
    "    ans =  [[(1-e/M)] for e in gap]\n",
    "    return np.array(ans)\n",
    "def reg2max(left,right,arr):\n",
    "    arr = list(arr)\n",
    "    M = max(left-min(arr),max(arr)-right)\n",
    "    if M == 0:\n",
    "        M = 1\n",
    "    ans = []\n",
    "    for i in  range(len(arr)):\n",
    "        if arr[i] < left:\n",
    "            ans.append([1-(left-arr[i])/M])\n",
    "        elif arr[i] > right:\n",
    "            ans.append([1-(arr[i]-right)/M])\n",
    "        else :\n",
    "            ans.append([1])\n",
    "    return np.array(ans)"
   ]
  },
  {
   "cell_type": "markdown",
   "id": "6e6087b2-7327-487f-b78d-9f0be6c517b9",
   "metadata": {},
   "source": [
    "### 数据处理"
   ]
  },
  {
   "cell_type": "code",
   "execution_count": 17,
   "id": "43ae765d-e482-4dc9-b765-56fbe6d394a7",
   "metadata": {},
   "outputs": [],
   "source": [
    "X = np.zeros(shape=(n,1))\n",
    "for i in range(m):\n",
    "    if kind[i] == 1:\n",
    "        v = np.array(A[:,i])\n",
    "    elif kind[i] == 2:\n",
    "        v = min2max(A[:,i])\n",
    "    elif kind[i] == 3:\n",
    "        v = mid2max(mid,A[:,i])\n",
    "    elif kind[i] == 4:\n",
    "        v = reg2max(left,right,A[:,i])\n",
    "    if i == 0:\n",
    "        X = v.reshape(-1,1)\n",
    "    else :\n",
    "        X = np.hstack([X,v.reshape(-1,1)])"
   ]
  },
  {
   "cell_type": "code",
   "execution_count": 28,
   "id": "3c05659b-e9cb-42cd-ba84-0694dd0b4fd2",
   "metadata": {},
   "outputs": [
    {
     "name": "stdout",
     "output_type": "stream",
     "text": [
      "标准化矩阵为 \n",
      "[[0.66896473 0.         0.         0.        ]\n",
      " [0.59463532 0.3939193  0.97618706 0.4472136 ]\n",
      " [0.44597649 0.91914503 0.21693046 0.89442719]]\n"
     ]
    }
   ],
   "source": [
    "X = X.astype('float')\n",
    "for j in range(m):\n",
    "    X[:,j]=X[:,j]/np.sqrt(sum(np.power(X[:,j],2)))\n",
    "print(f\"标准化矩阵为 \\n{X}\")"
   ]
  },
  {
   "cell_type": "code",
   "execution_count": 31,
   "id": "44ecd371-b04c-4e67-868c-ee80f4556a3f",
   "metadata": {},
   "outputs": [
    {
     "name": "stdout",
     "output_type": "stream",
     "text": [
      "S=\n",
      "[0.12153618 0.62438712 0.62174684]\n"
     ]
    }
   ],
   "source": [
    "Z_max = np.max(X,axis=0)\n",
    "Z_min = np.min(X,axis=0)\n",
    "D_max = np.sqrt(np.sum(np.power(X-np.tile(Z_max,(n,1)),2),axis=1))\n",
    "D_min = np.sqrt(np.sum(np.power(X-np.tile(Z_min,(n,1)),2),axis=1))\n",
    "S = D_min/(D_max+D_min)\n",
    "print(f\"S=\\n{S}\")"
   ]
  },
  {
   "cell_type": "markdown",
   "id": "7222a895-5062-4fb0-82ec-79c7d9eecc47",
   "metadata": {},
   "source": [
    "### 下面需要给出权重指标再进行计算"
   ]
  },
  {
   "cell_type": "code",
   "execution_count": null,
   "id": "0cacf53a-8fb9-4311-936c-af32197f147a",
   "metadata": {},
   "outputs": [],
   "source": []
  }
 ],
 "metadata": {
  "kernelspec": {
   "display_name": "Python [conda env:base] *",
   "language": "python",
   "name": "conda-base-py"
  },
  "language_info": {
   "codemirror_mode": {
    "name": "ipython",
    "version": 3
   },
   "file_extension": ".py",
   "mimetype": "text/x-python",
   "name": "python",
   "nbconvert_exporter": "python",
   "pygments_lexer": "ipython3",
   "version": "3.12.7"
  }
 },
 "nbformat": 4,
 "nbformat_minor": 5
}
