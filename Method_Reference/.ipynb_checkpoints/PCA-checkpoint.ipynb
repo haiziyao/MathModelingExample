{
 "cells": [
  {
   "cell_type": "markdown",
   "id": "c3790247-f8ff-4a2b-b9c5-4362e52c2263",
   "metadata": {},
   "source": [
    "## 主成分分析法"
   ]
  },
  {
   "cell_type": "code",
   "execution_count": 6,
   "id": "7f0155b5-9449-4bfb-b24c-ec74c876e257",
   "metadata": {},
   "outputs": [
    {
     "name": "stdout",
     "output_type": "stream",
     "text": [
      "     C 列   D 列   E 列   F 列   G 列\n",
      "0   12.5  34.2  56.8  78.1  90.3\n",
      "1   13.1  35.6  57.2  79.0  91.5\n",
      "2   11.8  33.5  55.9  77.3  89.6\n",
      "3   14.0  36.8  58.5  80.2  92.8\n",
      "4   10.9  32.1  54.7  76.0  88.2\n",
      "5   15.2  38.0  59.7  81.5  94.0\n",
      "6    9.7  30.5  53.2  74.5  86.7\n",
      "7   16.5  39.5  61.0  82.8  95.5\n",
      "8    8.9  29.3  52.1  73.3  85.5\n",
      "9   17.3  40.6  62.2  83.9  96.7\n",
      "10  12.8  34.7  57.1  78.5  90.8\n",
      "11  13.5  35.9  58.0  79.7  92.1\n",
      "12  11.2  33.0  55.3  76.8  89.0\n",
      "13  14.7  37.5  59.2  80.9  93.5\n",
      "14  10.3  31.7  54.1  75.6  87.8\n",
      "15  15.8  38.7  60.3  82.2  94.8\n",
      "16   9.2  29.9  52.8  74.0  86.2\n",
      "17  16.9  40.1  61.7  83.5  96.2\n",
      "18   8.5  28.8  51.5  72.9  85.0\n",
      "19  17.9  41.3  62.8  84.6  97.3\n",
      "贡献率: [9.99244458e-01 4.34213815e-04 2.63918437e-04 3.44397140e-05\n",
      " 2.29703277e-05]\n",
      "累积贡献率: [0.99924446 0.99967867 0.99994259 0.99997703 1.        ]\n"
     ]
    }
   ],
   "source": [
    "import pandas as pd \n",
    "import numpy as np\n",
    "from numpy import linalg\n",
    "# 读取 Excel 文件（请替换为实际文件路径）\n",
    "df = pd.read_excel(\"./PCA_test.xlsx\", usecols='A:E')\n",
    "print(df)\n",
    "\n",
    "# 转换为 numpy 数组\n",
    "x = df.to_numpy()\n",
    "\n",
    "# 标准化数据\n",
    "# 避免除以零：添加一个很小的常数（如 1e-8）\n",
    "X = (x - np.mean(x, axis=0)) / (np.std(x, ddof=1, axis=0) + 1e-8)\n",
    "\n",
    "# 计算协方差矩阵\n",
    "R = np.cov(X.T)\n",
    "\n",
    "# 计算特征值和特征向量（自动排序）\n",
    "eig_val, eig_vec = linalg.eigh(R)\n",
    "\n",
    "# 降序排列特征值和特征向量\n",
    "eig_val = eig_val[::-1]\n",
    "eig_vec = eig_vec[:, ::-1]\n",
    "\n",
    "# 计算贡献率和累积贡献率\n",
    "contribution_rate = eig_val / sum(eig_val)\n",
    "cum_contribution_rate = np.cumsum(contribution_rate)\n",
    "\n",
    "print(\"贡献率:\", contribution_rate)\n",
    "print(\"累积贡献率:\", cum_contribution_rate)\n",
    "\n"
   ]
  },
  {
   "cell_type": "markdown",
   "id": "c707b71f-0535-4444-bc50-d6d8505cbc70",
   "metadata": {},
   "source": [
    "## 下面这段是AI生成用来找主成分对应的列没有具体数据验证正确性"
   ]
  },
  {
   "cell_type": "code",
   "execution_count": 17,
   "id": "cb85cd43-5103-404d-8658-caa479b66796",
   "metadata": {},
   "outputs": [
    {
     "name": "stdout",
     "output_type": "stream",
     "text": [
      "\n",
      "特征对第一主成分的贡献：\n",
      "C 列列: 0.4470\n",
      "D 列列: 0.4472\n",
      "E 列列: 0.4472\n",
      "F 列列: 0.4473\n",
      "G 列列: 0.4473\n",
      "\n",
      "对第一主成分贡献最大的是: F 列列\n"
     ]
    }
   ],
   "source": [
    "# 获取第一个主成分的特征向量（载荷）\n",
    "first_pc_loadings = eig_vec[:, 0]  # 第一个主成分对应的特征向量\n",
    "\n",
    "# 获取Excel列名\n",
    "column_names = df.columns  # 对应'A','B','C','D','E'或其他列名\n",
    "\n",
    "# 打印每个特征对第一主成分的贡献（载荷）\n",
    "print(\"\\n特征对第一主成分的贡献：\")\n",
    "for i, col in enumerate(column_names):\n",
    "    print(f\"{col}列: {first_pc_loadings[i]:.4f}\")\n",
    "\n",
    "# 找出贡献最大的特征（按绝对值）\n",
    "max_loading_idx = np.argmax(np.abs(first_pc_loadings))\n",
    "print(f\"\\n对第一主成分贡献最大的是: {column_names[max_loading_idx]}列\")"
   ]
  }
 ],
 "metadata": {
  "kernelspec": {
   "display_name": "Python [conda env:base] *",
   "language": "python",
   "name": "conda-base-py"
  },
  "language_info": {
   "codemirror_mode": {
    "name": "ipython",
    "version": 3
   },
   "file_extension": ".py",
   "mimetype": "text/x-python",
   "name": "python",
   "nbconvert_exporter": "python",
   "pygments_lexer": "ipython3",
   "version": "3.12.7"
  }
 },
 "nbformat": 4,
 "nbformat_minor": 5
}
