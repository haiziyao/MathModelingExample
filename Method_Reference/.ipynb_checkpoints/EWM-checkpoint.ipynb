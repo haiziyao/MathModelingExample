{
 "cells": [
  {
   "cell_type": "code",
   "execution_count": 5,
   "id": "f60f1c1f-6d5c-40b4-9ae5-272e4eba1117",
   "metadata": {},
   "outputs": [],
   "source": [
    "import numpy as np "
   ]
  },
  {
   "cell_type": "code",
   "execution_count": 44,
   "id": "dd3b6907-a598-460c-a337-cea8edf5a0ba",
   "metadata": {},
   "outputs": [],
   "source": [
    "X = np.array([[0.66896473 ,0.        , 0.         ,0.        ],\n",
    " [0.59463532 ,0.3939193,  0.97618706 ,0.4472136 ],\n",
    " [0.44597649, 0.91914503, 0.21693046 ,0.89442719]]\n",
    ")\n",
    "#计算成概率矩阵\n",
    "Z = X/np.sum(X,axis=0)\n",
    " "
   ]
  },
  {
   "cell_type": "code",
   "execution_count": 45,
   "id": "220d4393-7bc5-4698-9ceb-f12f2b2934f5",
   "metadata": {},
   "outputs": [],
   "source": [
    "def mylog(nparr):\n",
    "    newarr = np.zeros(np.shape(nparr))\n",
    "    for i in range(n):\n",
    "        if nparr[i] != 0:\n",
    "            newarr[i] = np.log(nparr[i])\n",
    "    return newarr"
   ]
  },
  {
   "cell_type": "code",
   "execution_count": 48,
   "id": "dde6e8af-8a90-4bb6-8383-2793d19dd8c3",
   "metadata": {},
   "outputs": [
    {
     "data": {
      "text/plain": [
       "array([0.00856537, 0.30716152, 0.39326471, 0.2910084 ])"
      ]
     },
     "execution_count": 48,
     "metadata": {},
     "output_type": "execute_result"
    }
   ],
   "source": [
    "(n,m) = np.shape(Z)\n",
    "D = np.zeros(m)\n",
    "for j in range(m):\n",
    "    E = Z[:,j] \n",
    "    e = -np.sum(E*mylog(E))/np.log(n)\n",
    "    d=1-e\n",
    "    D[j] = d\n",
    "W = D/np.sum(D)\n",
    "W"
   ]
  }
 ],
 "metadata": {
  "kernelspec": {
   "display_name": "Python [conda env:base] *",
   "language": "python",
   "name": "conda-base-py"
  },
  "language_info": {
   "codemirror_mode": {
    "name": "ipython",
    "version": 3
   },
   "file_extension": ".py",
   "mimetype": "text/x-python",
   "name": "python",
   "nbconvert_exporter": "python",
   "pygments_lexer": "ipython3",
   "version": "3.12.7"
  }
 },
 "nbformat": 4,
 "nbformat_minor": 5
}
