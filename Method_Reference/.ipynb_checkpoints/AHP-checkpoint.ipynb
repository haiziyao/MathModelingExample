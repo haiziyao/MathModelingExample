{
 "cells": [
  {
   "cell_type": "code",
   "execution_count": 5,
   "id": "06c07a58-8aba-4eb1-86ae-e8870e5ac148",
   "metadata": {},
   "outputs": [],
   "source": [
    "import numpy as np\n",
    "import pandas as pd\n",
    "import matplotlib as plt"
   ]
  },
  {
   "cell_type": "markdown",
   "id": "0e261ea5-1984-489b-b777-4519b6cbd2e2",
   "metadata": {},
   "source": [
    "###  定义一个矩阵A\n",
    "``` matlab\n",
    "% A=[1 2 3 5;1/2 1 1/2 2;1/3 2 1 1/2;1/5 1/2 2 1];\n",
    "% A=[1 2 3 5;1/2 1 1/2 2;1/3 2 1 2;1/5 1/2 1/2 1];\n",
    "```"
   ]
  },
  {
   "cell_type": "code",
   "execution_count": 6,
   "id": "139d96cd-589f-4642-b820-53fa4ba02573",
   "metadata": {},
   "outputs": [
    {
     "data": {
      "text/plain": [
       "4"
      ]
     },
     "execution_count": 6,
     "metadata": {},
     "output_type": "execute_result"
    }
   ],
   "source": [
    "A = np.array([[1,2,3,5],[1/2,1,1/2,2],[1/3,2,1,1/2],[1/5,1/2,2,1]])\n",
    "A = np.array([[1,2,3,5],[1/2,1,1/2,2],[1/3,2,1,2],[1/5,1/2,1/2,1]])\n",
    "n=A.shape[0]\n",
    "n"
   ]
  },
  {
   "cell_type": "code",
   "execution_count": 7,
   "id": "db014fe0-40db-43bf-a042-5fdaea5ea1a9",
   "metadata": {},
   "outputs": [
    {
     "name": "stdout",
     "output_type": "stream",
     "text": [
      "通过一致性检验,CR=(0.03358036850956861+0j)\n"
     ]
    }
   ],
   "source": [
    "eig_val,eig_vec = np.linalg.eig(A)\n",
    "eig_val_max = max(eig_val)\n",
    "CI = (eig_val_max-n)/(n-1)\n",
    "RI = [0, 0, 0.58, 0.90, 1.12, 1.24, 1.32, 1.41, 1.45, 1.49, 1.51, 1.54, 1.56, 1.57, 1.58]\n",
    "CR=CI/RI[n]\n",
    "if CR<0.1:\n",
    "    print(f\"通过一致性检验,CR={CR}\")\n",
    "else:\n",
    "    print(f\"未通过，请修改数据，当前CR={CR}\")"
   ]
  },
  {
   "cell_type": "markdown",
   "id": "04519009-6480-47e4-be11-bdeccd4aafa5",
   "metadata": {},
   "source": [
    "#### 算数平均法求权重"
   ]
  },
  {
   "cell_type": "code",
   "execution_count": 8,
   "id": "6ee3c29a-3a55-4354-a670-718ac84d4376",
   "metadata": {},
   "outputs": [
    {
     "name": "stdout",
     "output_type": "stream",
     "text": [
      "算数平均权重=[0.48885991 0.18192996 0.2318927  0.09731744]\n"
     ]
    }
   ],
   "source": [
    "Asum = np.sum(A,axis=0)\n",
    "Stand_A = A / Asum\n",
    "weights1 = np.sum(Stand_A,axis=1)/n\n",
    "print(f\"算数平均权重={weights1}\")"
   ]
  },
  {
   "cell_type": "markdown",
   "id": "e7eca064-4402-4794-85d0-0c7df552ae77",
   "metadata": {},
   "source": [
    "#### 几何平均法求权重"
   ]
  },
  {
   "cell_type": "code",
   "execution_count": 26,
   "id": "437d9aa1-f117-4a84-8410-da46ab46579c",
   "metadata": {},
   "outputs": [
    {
     "name": "stdout",
     "output_type": "stream",
     "text": [
      "几何平均法求权重=[0.49492567 0.17782883 0.22724501 0.1000005 ]\n"
     ]
    }
   ],
   "source": [
    "Apro = np.prod(A,axis=1)\n",
    "Power_A = np.power(Apro,1/n)\n",
    "weights2 = Power_A / np.sum(Power_A)\n",
    "print(f\"几何平均法求权重={weights2}\")"
   ]
  },
  {
   "cell_type": "markdown",
   "id": "114be953-d7bb-4e24-a43a-24762ae47192",
   "metadata": {},
   "source": [
    "#### 特征向量法求权重"
   ]
  },
  {
   "cell_type": "code",
   "execution_count": 29,
   "id": "ae81c28e-5e76-497f-9b8f-04bff8679268",
   "metadata": {},
   "outputs": [
    {
     "name": "stdout",
     "output_type": "stream",
     "text": [
      "特征向量法求权重=[0.4933895 +0.j 0.17884562+0.j 0.230339  +0.j 0.09742588+0.j]\n"
     ]
    }
   ],
   "source": [
    "eig_max_index = np.argmax(eig_val)\n",
    "max_eig_vec = eig_vec[:,eig_max_index]\n",
    "weights3 = max_eig_vec / np.sum(max_eig_vec)\n",
    "print(f\"特征向量法求权重={weights3}\")"
   ]
  }
 ],
 "metadata": {
  "kernelspec": {
   "display_name": "Python [conda env:base] *",
   "language": "python",
   "name": "conda-base-py"
  },
  "language_info": {
   "codemirror_mode": {
    "name": "ipython",
    "version": 3
   },
   "file_extension": ".py",
   "mimetype": "text/x-python",
   "name": "python",
   "nbconvert_exporter": "python",
   "pygments_lexer": "ipython3",
   "version": "3.12.7"
  }
 },
 "nbformat": 4,
 "nbformat_minor": 5
}
