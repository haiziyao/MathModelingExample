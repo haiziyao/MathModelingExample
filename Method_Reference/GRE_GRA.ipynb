{
 "cells": [
  {
   "cell_type": "markdown",
   "id": "5466206e-1679-4c25-8f54-a663feb95b80",
   "metadata": {},
   "source": [
    "### 灰色关联分析与灰色关联评价"
   ]
  },
  {
   "cell_type": "code",
   "execution_count": 3,
   "id": "41898ec0-2a13-4919-9142-63e123aa58a3",
   "metadata": {},
   "outputs": [],
   "source": [
    "import numpy as np"
   ]
  },
  {
   "cell_type": "markdown",
   "id": "001d6c0f-ea1e-4f02-af6e-ca03a91ea11a",
   "metadata": {},
   "source": [
    "#### 数据预处理\n",
    "除以均值"
   ]
  },
  {
   "cell_type": "code",
   "execution_count": 26,
   "id": "f8415a9b-337d-4e84-827f-3b03c9743940",
   "metadata": {},
   "outputs": [
    {
     "data": {
      "text/plain": [
       "array([[0.74576271, 0.63157895, 0.57142857],\n",
       "       [0.88135593, 1.        , 1.25714286],\n",
       "       [1.01694915, 1.05263158, 1.02857143],\n",
       "       [1.3559322 , 1.31578947, 1.14285714]])"
      ]
     },
     "execution_count": 26,
     "metadata": {},
     "output_type": "execute_result"
    }
   ],
   "source": [
    "X = np.array([[55,24,10],[65,38,22],[75,40,18],[100,50,20]])\n",
    "X_mean = np.mean(X,axis=0)\n",
    "X_norm = X / X_mean\n",
    " \n",
    "#母序列\n",
    "Y = X_norm[:,0]\n",
    "#子序列\n",
    "X = X_norm[:,1:]\n",
    "X_norm"
   ]
  },
  {
   "cell_type": "code",
   "execution_count": 29,
   "id": "fabcb557-7dc0-4e62-ae30-df0fb8305618",
   "metadata": {},
   "outputs": [
    {
     "name": "stdout",
     "output_type": "stream",
     "text": [
      "关联度为：[0.76966578 0.60058464]\n"
     ]
    }
   ],
   "source": [
    "X_gap = np.abs(X-Y[:,np.newaxis])\n",
    "a = np.min(X_gap)\n",
    "b = np.max(X_gap)\n",
    "#分辨系数\n",
    "rho = 0.5\n",
    "gamma = (a + rho*b)/(X_gap + rho*b)\n",
    "rag = np.mean(gamma,axis=0)\n",
    "print(f\"关联度为：{rag}\")"
   ]
  },
  {
   "cell_type": "markdown",
   "id": "c40c4c6c-45a4-48e3-97e3-18cda391fe3e",
   "metadata": {},
   "source": [
    "## 评价"
   ]
  },
  {
   "cell_type": "markdown",
   "id": "9628dd69-02b4-43ab-85c8-1173fbc934ae",
   "metadata": {},
   "source": [
    "### difference:自己构造母序列(每行的最大值)"
   ]
  },
  {
   "cell_type": "markdown",
   "id": "4701595a-8c63-47c8-b89f-ab469ba00220",
   "metadata": {},
   "source": [
    "weight = np.mean(gamma,axis=0)/np.sum(np.mean(gamma,axis=0))\n",
    "\n",
    "gamma计算方式相同，就是需要处理一下得到weight，然后按照weight进行计算得分就ok了"
   ]
  }
 ],
 "metadata": {
  "kernelspec": {
   "display_name": "Python [conda env:base] *",
   "language": "python",
   "name": "conda-base-py"
  },
  "language_info": {
   "codemirror_mode": {
    "name": "ipython",
    "version": 3
   },
   "file_extension": ".py",
   "mimetype": "text/x-python",
   "name": "python",
   "nbconvert_exporter": "python",
   "pygments_lexer": "ipython3",
   "version": "3.12.7"
  }
 },
 "nbformat": 4,
 "nbformat_minor": 5
}
