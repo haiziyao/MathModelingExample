{
 "cells": [
  {
   "cell_type": "markdown",
   "id": "b031a48f-35cd-4bfe-8f57-2c2c9ffbfea7",
   "metadata": {},
   "source": [
    "#### **首先来感受一下微分方程的代码**"
   ]
  },
  {
   "cell_type": "code",
   "execution_count": 5,
   "id": "c9f382f6-9874-48e8-9a8f-df0eedf9a025",
   "metadata": {},
   "outputs": [
    {
     "name": "stdout",
     "output_type": "stream",
     "text": [
      "Looking in indexes: https://mirrors.aliyun.com/pypi/simple\n",
      "Collecting sympy\n",
      "  Downloading https://mirrors.aliyun.com/pypi/packages/a2/09/77d55d46fd61b4a135c444fc97158ef34a095e5681d0a6c10b75bf356191/sympy-1.14.0-py3-none-any.whl (6.3 MB)\n",
      "     ---------------------------------------- 0.0/6.3 MB ? eta -:--:--\n",
      "     ---------------------------------------- 0.0/6.3 MB ? eta -:--:--\n",
      "     - -------------------------------------- 0.3/6.3 MB ? eta -:--:--\n",
      "     --- ------------------------------------ 0.5/6.3 MB 1.7 MB/s eta 0:00:04\n",
      "     ---- ----------------------------------- 0.8/6.3 MB 1.7 MB/s eta 0:00:04\n",
      "     ------ --------------------------------- 1.0/6.3 MB 1.7 MB/s eta 0:00:04\n",
      "     -------- ------------------------------- 1.3/6.3 MB 1.6 MB/s eta 0:00:04\n",
      "     ----------- ---------------------------- 1.8/6.3 MB 1.5 MB/s eta 0:00:03\n",
      "     -------------- ------------------------- 2.4/6.3 MB 1.7 MB/s eta 0:00:03\n",
      "     ------------------ --------------------- 2.9/6.3 MB 1.7 MB/s eta 0:00:02\n",
      "     ------------------- -------------------- 3.1/6.3 MB 1.8 MB/s eta 0:00:02\n",
      "     ----------------------- ---------------- 3.7/6.3 MB 1.8 MB/s eta 0:00:02\n",
      "     -------------------------- ------------- 4.2/6.3 MB 1.9 MB/s eta 0:00:02\n",
      "     ----------------------------- ---------- 4.7/6.3 MB 2.0 MB/s eta 0:00:01\n",
      "     --------------------------------- ------ 5.2/6.3 MB 2.0 MB/s eta 0:00:01\n",
      "     --------------------------------- ------ 5.2/6.3 MB 2.0 MB/s eta 0:00:01\n",
      "     ------------------------------------ --- 5.8/6.3 MB 1.9 MB/s eta 0:00:01\n",
      "     ---------------------------------------  6.3/6.3 MB 1.9 MB/s eta 0:00:01\n",
      "     ---------------------------------------- 6.3/6.3 MB 1.9 MB/s eta 0:00:00\n",
      "Collecting mpmath<1.4,>=1.1.0 (from sympy)\n",
      "  Downloading https://mirrors.aliyun.com/pypi/packages/43/e3/7d92a15f894aa0c9c4b49b8ee9ac9850d6e63b03c9c32c0367a13ae62209/mpmath-1.3.0-py3-none-any.whl (536 kB)\n",
      "     ---------------------------------------- 0.0/536.2 kB ? eta -:--:--\n",
      "     -------------------------------------- 536.2/536.2 kB 2.5 MB/s eta 0:00:00\n",
      "Installing collected packages: mpmath, sympy\n",
      "Successfully installed mpmath-1.3.0 sympy-1.14.0\n"
     ]
    }
   ],
   "source": [
    "!pip install sympy"
   ]
  },
  {
   "cell_type": "markdown",
   "id": "5e7c9f08-c415-4b2b-98bf-cad37b3f7bbe",
   "metadata": {},
   "source": [
    "#### **下面先来展示符号解**"
   ]
  },
  {
   "cell_type": "markdown",
   "id": "e1689578-6c68-4644-bdf8-62c91af49da3",
   "metadata": {},
   "source": [
    " ![](./img/Snipaste_2025-07-08_10-20-46.png)"
   ]
  },
  {
   "cell_type": "code",
   "execution_count": 13,
   "id": "ebe2e3a5-0d53-47e2-8c7f-8a3d6dc8afb7",
   "metadata": {},
   "outputs": [
    {
     "data": {
      "text/latex": [
       "$\\displaystyle y{\\left(x \\right)} = e^{- x} \\sin{\\left(x \\right)}$"
      ],
      "text/plain": [
       "Eq(y(x), exp(-x)*sin(x))"
      ]
     },
     "execution_count": 13,
     "metadata": {},
     "output_type": "execute_result"
    }
   ],
   "source": [
    "from sympy.abc import x\n",
    "from sympy import diff,dsolve,simplify,Function \n",
    "#diff()就是求导数  dsolve()是求解  simplify()是简化表达式 Function()是定义函数\n",
    "y = Function('y')\n",
    "eq = diff(y(x),x,2)+2*diff(y(x),x,1)+2*y(x)\n",
    "conf = {y(0):0,diff(y(x),x).subs(x,0):1}  #这个表达式(大括号里第二个参数)的意思是先计算导数，再把0代入\n",
    "y = dsolve(eq,ics=conf)\n",
    "#print(f\"y:{y}\\nsimplify(y):{simplify(y)}\") #这样只会输出y的表达式\n",
    "y #这样可以直观的显示出来我也不知道是为甚"
   ]
  },
  {
   "cell_type": "markdown",
   "id": "afa9042b-b8e9-4606-8fe1-461ef63267b6",
   "metadata": {},
   "source": [
    " ![](./img/Snipaste_2025-07-08_10-32-15.png)"
   ]
  },
  {
   "cell_type": "code",
   "execution_count": 15,
   "id": "f8a611b1-101e-4969-a7f7-41ff55452ecf",
   "metadata": {},
   "outputs": [
    {
     "data": {
      "text/latex": [
       "$\\displaystyle y{\\left(x \\right)} = \\left(\\frac{6 \\sin{\\left(x \\right)}}{5} + \\frac{2 \\cos{\\left(x \\right)}}{5}\\right) e^{- x} + \\frac{\\sin{\\left(x \\right)}}{5} - \\frac{2 \\cos{\\left(x \\right)}}{5}$"
      ],
      "text/plain": [
       "Eq(y(x), (6*sin(x)/5 + 2*cos(x)/5)*exp(-x) + sin(x)/5 - 2*cos(x)/5)"
      ]
     },
     "execution_count": 15,
     "metadata": {},
     "output_type": "execute_result"
    }
   ],
   "source": [
    "from sympy.abc import x\n",
    "from sympy import diff,dsolve,simplify,Function,sin\n",
    "y = Function('y')\n",
    "eq = diff(y(x),x,2) + 2*diff(y(x),x,1) + 2*y(x)-sin(x)\n",
    "conf = {y(0):0,diff(y(x),x,1).subs(x,0):1}\n",
    "y = dsolve(eq,ics = conf)\n",
    "y"
   ]
  },
  {
   "cell_type": "markdown",
   "id": "21da392f-d9a1-4597-b562-552a60d94cdf",
   "metadata": {},
   "source": [
    " ![](./img/Snipaste_2025-07-08_10-41-24.png)"
   ]
  },
  {
   "cell_type": "code",
   "execution_count": 22,
   "id": "df302a8f-2314-4872-b399-78758b1b2962",
   "metadata": {},
   "outputs": [
    {
     "data": {
      "text/plain": [
       "[Eq(x1(t), 2*exp(2*t) - exp(-t)),\n",
       " Eq(x2(t), 2*exp(2*t) - exp(-t) + exp(-2*t)),\n",
       " Eq(x3(t), 2*exp(2*t) + exp(-2*t))]"
      ]
     },
     "execution_count": 22,
     "metadata": {},
     "output_type": "execute_result"
    }
   ],
   "source": [
    "import sympy as sp \n",
    " \n",
    "t = sp.symbols('t')\n",
    "x1,x2,x3 = sp.symbols('x1:4',cls=sp.Function)  \n",
    "#上面这个是高级写法等价于x1 = sp.Function('x1');x2 = sp.Function('x2');x3 = sp.Function('x3')\n",
    "x = sp.Matrix([x1(t),x2(t),x3(t)])\n",
    "A = sp.Matrix([[2,-3,3],[4,-5,3],[4,-4,2]])\n",
    "eq = x.diff(t)-A*x\n",
    "conf = {x1(0):1,x2(0):2,x3(0):3}\n",
    "s = sp.dsolve(eq,ics=conf)\n",
    "s\n",
    " "
   ]
  },
  {
   "cell_type": "code",
   "execution_count": 21,
   "id": "ba2b50d3-a651-472e-9089-7410711a78ce",
   "metadata": {},
   "outputs": [
    {
     "data": {
      "text/plain": [
       "[Eq(x1(t), 2*exp(2*t) - exp(-t)),\n",
       " Eq(x2(t), 2*exp(2*t) - exp(-t) + exp(-2*t)),\n",
       " Eq(x3(t), 2*exp(2*t) + exp(-2*t))]"
      ]
     },
     "execution_count": 21,
     "metadata": {},
     "output_type": "execute_result"
    }
   ],
   "source": [
    "import sympy as sp\n",
    "t=sp.symbols('t')\n",
    "x1,x2,x3=sp.symbols('x1,x2,x3',cls=sp.Function)\n",
    "eq=[x1(t).diff(t)-2*x1(t)+3*x2(t)-3*x3(t),\n",
    "x2(t).diff(t)-4*x1(t)+5*x2(t)-3*x3(t),\n",
    "x3(t).diff(t)-4*x1(t)+4*x2(t)-2*x3(t)]\n",
    "con={x1(0):1, x2(0):2, x3(0):3}\n",
    "s=sp.dsolve(eq, ics=con); \n",
    "s"
   ]
  },
  {
   "cell_type": "markdown",
   "id": "f4747c44-4c7c-4fd9-b472-f225b6f1a3d0",
   "metadata": {},
   "source": [
    "#### **接下来展示数值解**"
   ]
  },
  {
   "cell_type": "markdown",
   "id": "858cf04e-9420-4420-b52c-79dad0b5fc67",
   "metadata": {},
   "source": [
    " ![](./img/Snipaste_2025-07-08_11-07-31.png)"
   ]
  },
  {
   "cell_type": "code",
   "execution_count": 25,
   "id": "af6ebb61-6de7-41e7-a2ae-6ef10d860711",
   "metadata": {},
   "outputs": [
    {
     "data": {
      "text/plain": [
       "array([[ 2.        ],\n",
       "       [ 2.08484933],\n",
       "       [ 2.9191691 ],\n",
       "       [ 4.18723381],\n",
       "       [ 5.77289452],\n",
       "       [ 7.63342241],\n",
       "       [ 9.75309843],\n",
       "       [12.12613985],\n",
       "       [14.75041934],\n",
       "       [17.62515427],\n",
       "       [20.75005673],\n",
       "       [24.12502089],\n",
       "       [27.7500077 ],\n",
       "       [31.62500278],\n",
       "       [35.75000104],\n",
       "       [40.1250004 ],\n",
       "       [44.75000015],\n",
       "       [49.62500006],\n",
       "       [54.75000002]])"
      ]
     },
     "execution_count": 25,
     "metadata": {},
     "output_type": "execute_result"
    }
   ],
   "source": [
    "from scipy.integrate import odeint\n",
    "from numpy import arange\n",
    "dy=lambda y, x: -2*y+x**2+2*x\n",
    "x=arange(1, 10.5, 0.5)\n",
    "sol=odeint(dy, 2, x)  # 注意这里的参数就是dy这是由解析器决定的，还有这里的2表示y(1) =2\n",
    "# 为什么是y(1)？因为，x的取值范围是从1开始的\n",
    "sol"
   ]
  },
  {
   "cell_type": "code",
   "execution_count": null,
   "id": "f6e516ec-0c57-47e0-851b-bf920483b7eb",
   "metadata": {},
   "outputs": [],
   "source": []
  },
  {
   "cell_type": "code",
   "execution_count": 30,
   "id": "d5836adb-331f-4eef-b145-36da9f752e08",
   "metadata": {},
   "outputs": [
    {
     "data": {
      "image/png": "[encoded data removed]",
      "text/plain": [
       "<Figure size 640x480 with 1 Axes>"
      ]
     },
     "metadata": {},
     "output_type": "display_data"
    }
   ],
   "source": [
    "from scipy.integrate import odeint\n",
    "from sympy.abc import t\n",
    "import numpy as np\n",
    "import matplotlib.pyplot as plt\n",
    "def Pfun(y,x):\n",
    "    y1, y2=y;\n",
    "    return np.array([y2, -2*y1-2*y2])\n",
    "x=np.arange (0, 10,0.1) #创建时间点\n",
    "sol1=odeint (Pfun, [0.0, 1.0], x) #求数值解\n",
    "plt.rc('font',size=16); plt.rc('font',family='SimHei')\n",
    "plt.plot(x, sol1[:,0],'r*',label=\"数值解\")\n",
    "plt.plot (x, np.exp(-x)*np.sin(x), 'g', label=\"符号解曲线\")\n",
    "plt.legend()  #这个是用来声明下面图右上角那个东西的\n",
    "plt.savefig(\"figure8_5.png\"); plt.show()"
   ]
  },
  {
   "cell_type": "markdown",
   "id": "4b5933f1-e2f1-4bb7-ba4a-405d0facc5c5",
   "metadata": {},
   "source": [
    "#### **这里有三个模型**\n",
    "* **Malthus 模型**\n",
    "* **Logistic 模型**\n",
    "* **传染病模型**\n",
    "\n",
    "**需要深刻理解这三个模型，等到用的时候才能得心应手**"
   ]
  },
  {
   "cell_type": "markdown",
   "id": "fd58b516-3e51-4797-a035-28717fcb301d",
   "metadata": {},
   "source": [
    "#### **拉氏变换求常微分方程(组)的符号解**\n",
    "253页，这部分真不熟悉，先跳过了"
   ]
  },
  {
   "cell_type": "code",
   "execution_count": null,
   "id": "09cb87ba-5c4b-4843-8bcf-1d4e58f1a1c6",
   "metadata": {},
   "outputs": [],
   "source": []
  }
 ],
 "metadata": {
  "kernelspec": {
   "display_name": "Python [conda env:base] *",
   "language": "python",
   "name": "conda-base-py"
  },
  "language_info": {
   "codemirror_mode": {
    "name": "ipython",
    "version": 3
   },
   "file_extension": ".py",
   "mimetype": "text/x-python",
   "name": "python",
   "nbconvert_exporter": "python",
   "pygments_lexer": "ipython3",
   "version": "3.12.7"
  }
 },
 "nbformat": 4,
 "nbformat_minor": 5
}
