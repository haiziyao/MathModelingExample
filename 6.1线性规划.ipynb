{
 "cells": [
  {
   "cell_type": "markdown",
   "id": "ba8e1e4a-5cbb-4c34-b32a-64dcb96ee9ed",
   "metadata": {},
   "source": [
    "* 一道简单的普通线性规划"
   ]
  },
  {
   "cell_type": "code",
   "execution_count": 4,
   "id": "82bcf951-e343-4f9d-8901-599391a76537",
   "metadata": {},
   "outputs": [
    {
     "name": "stdout",
     "output_type": "stream",
     "text": [
      "目标函数最小值为:-22.0,自变量取值为:[10. -3.]\n"
     ]
    }
   ],
   "source": [
    "from scipy.optimize import linprog\n",
    "# 目标函数\n",
    "# 一定要注意求出来的一定得是最小值\n",
    "c = [-1,4]\n",
    "#s.t.约束条件  A,b不等式约束(小于等于号)  Aeq,beq 等式约束  \n",
    "A = [[-3,1],[1,2]] #必须是二维数组\n",
    "b = [6,4]\n",
    "Aeq = None  #必须是二维数组\n",
    "beq = None\n",
    "#bounds 自变量上下限\n",
    "bounds = [[None,None],[-3,None]]\n",
    "result = linprog(c,A,b,None,None,bounds)\n",
    "print(f\"目标函数最小值为:{result.fun},自变量取值为:{result.x}\")"
   ]
  },
  {
   "cell_type": "markdown",
   "id": "7f10e4d7-b236-4e85-ab2d-c6770cdf0b47",
   "metadata": {},
   "source": [
    "* 再做一道例题"
   ]
  },
  {
   "cell_type": "code",
   "execution_count": 12,
   "id": "33a2b33c-ff83-4f00-b424-4e5ea6b5fbb0",
   "metadata": {},
   "outputs": [
    {
     "name": "stdout",
     "output_type": "stream",
     "text": [
      "目标函数最小值为:0.399999999999999,自变量取值为:[-1.6  0.  -0.4]\n"
     ]
    }
   ],
   "source": [
    "from scipy.optimize import linprog\n",
    "c = [-1,2,3]\n",
    "A = [[-2,1,1],[3,-1,-2]]\n",
    "b = [9,-4]\n",
    "Aeq = [[4,-2,-1]]\n",
    "beq = [-6]\n",
    "bounds = [[-10,None],[0,None],[None,None]]\n",
    "result = linprog(c,A,b,Aeq,beq,bounds)\n",
    "print(f\"目标函数最小值为:{result.fun},自变量取值为:{result.x}\")"
   ]
  },
  {
   "cell_type": "markdown",
   "id": "140480f2-50fa-4629-9b26-ffa175fb23e3",
   "metadata": {},
   "source": [
    "* 上点难度,自变量多一点"
   ]
  },
  {
   "cell_type": "code",
   "execution_count": 20,
   "id": "183fe348-598b-451c-851f-eb3638e8d9ff",
   "metadata": {},
   "outputs": [
    {
     "name": "stdout",
     "output_type": "stream",
     "text": [
      "目标函数最小值为:664.0,自变量取值为:[ 0. 19.  0.  0. 41.  0.  0.  0.  1.  0.  0. 32.  0.  0.  0.  0.  0. 11.\n",
      " 22.  0.  0.  0. 18.  0.  0.  0.  0.  0.  0.  5.  0. 38. 34.  7.  0.  0.\n",
      "  0.  0.  0.  0.  0.  0.  0.  0.  0. 27. 25.  0.]\n"
     ]
    },
    {
     "data": {
      "text/plain": [
       "        message: Optimization terminated successfully. (HiGHS Status 7: Optimal)\n",
       "        success: True\n",
       "         status: 0\n",
       "            fun: 664.0\n",
       "              x: [ 0.000e+00  1.900e+01 ...  2.500e+01  0.000e+00]\n",
       "            nit: 16\n",
       "          lower:  residual: [ 0.000e+00  1.900e+01 ...  2.500e+01\n",
       "                              0.000e+00]\n",
       "                 marginals: [ 5.000e+00  0.000e+00 ...  0.000e+00\n",
       "                              3.000e+00]\n",
       "          upper:  residual: [       inf        inf ...        inf\n",
       "                                    inf]\n",
       "                 marginals: [ 0.000e+00  0.000e+00 ...  0.000e+00\n",
       "                              0.000e+00]\n",
       "          eqlin:  residual: [ 0.000e+00  0.000e+00  0.000e+00  0.000e+00\n",
       "                              0.000e+00  0.000e+00  0.000e+00  0.000e+00]\n",
       "                 marginals: [ 4.000e+00  5.000e+00  4.000e+00  3.000e+00\n",
       "                              7.000e+00  3.000e+00  6.000e+00  2.000e+00]\n",
       "        ineqlin:  residual: [ 0.000e+00  2.200e+01  0.000e+00  0.000e+00\n",
       "                              0.000e+00  0.000e+00]\n",
       "                 marginals: [-3.000e+00 -0.000e+00 -3.000e+00 -1.000e+00\n",
       "                             -2.000e+00 -2.000e+00]\n",
       " mip_node_count: 0\n",
       " mip_dual_bound: 0.0\n",
       "        mip_gap: 0.0"
      ]
     },
     "execution_count": 20,
     "metadata": {},
     "output_type": "execute_result"
    }
   ],
   "source": [
    "import numpy as np\n",
    "from scipy.optimize import linprog\n",
    "\n",
    "# 单位运价矩阵 c_ij（6 行 8 列，对应 W1-W6 到 V1-V8 的运价）\n",
    "cost = np.array([\n",
    "    [6, 2, 6, 7, 4, 2, 5, 9],\n",
    "    [4, 9, 5, 3, 8, 5, 8, 2],\n",
    "    [5, 2, 1, 9, 7, 4, 3, 3],\n",
    "    [7, 6, 7, 3, 9, 2, 7, 1],\n",
    "    [2, 3, 9, 5, 7, 2, 6, 5],\n",
    "    [5, 5, 2, 2, 8, 1, 4, 3]\n",
    "])\n",
    "# 仓库存货量（6 个仓库）\n",
    "supply = np.array([60, 55, 51, 43, 41, 52])\n",
    "# 客户需求量（8 个客户）\n",
    "demand = np.array([35, 37, 22, 32, 41, 32, 43, 38])\n",
    "customer_num = 8\n",
    "warehouse_num = 6\n",
    "c = cost.flatten()\n",
    "A = np.zeros([warehouse_num,customer_num*warehouse_num])\n",
    "for i in range(warehouse_num):\n",
    "    for j in range(customer_num):\n",
    "        A[i,i*customer_num+j] = 1\n",
    "b = supply\n",
    "Aeq = np.zeros([customer_num,customer_num*warehouse_num])\n",
    "for i in range(customer_num):\n",
    "    for j in range(warehouse_num):\n",
    "        Aeq[i,j*customer_num+i]=1\n",
    "beq = demand\n",
    "result = linprog(c,A,b,Aeq,beq,None)\n",
    "print(f\"目标函数最小值为:{result.fun},自变量取值为:{result.x}\")\n",
    "result"
   ]
  },
  {
   "cell_type": "markdown",
   "id": "9c82183f-c630-4797-9ef2-ce9dae0cba48",
   "metadata": {},
   "source": [
    "* 暂时没有灵敏度分析的例子"
   ]
  },
  {
   "cell_type": "code",
   "execution_count": null,
   "id": "cf64f32a-d943-488a-b7f5-77b3bad7b9b5",
   "metadata": {},
   "outputs": [],
   "source": [
    "# 预留代码区"
   ]
  },
  {
   "cell_type": "markdown",
   "id": "e39fa31b-cd2c-438f-b201-c8d2a273798d",
   "metadata": {},
   "source": [
    "187页，有一个投资的风险与收益，这个可以玩味玩味"
   ]
  },
  {
   "cell_type": "code",
   "execution_count": null,
   "id": "b5596022-ec39-4083-8be2-5b4daafba737",
   "metadata": {},
   "outputs": [],
   "source": [
    "# 预留代码区"
   ]
  }
 ],
 "metadata": {
  "kernelspec": {
   "display_name": "Python [conda env:base] *",
   "language": "python",
   "name": "conda-base-py"
  },
  "language_info": {
   "codemirror_mode": {
    "name": "ipython",
    "version": 3
   },
   "file_extension": ".py",
   "mimetype": "text/x-python",
   "name": "python",
   "nbconvert_exporter": "python",
   "pygments_lexer": "ipython3",
   "version": "3.12.7"
  }
 },
 "nbformat": 4,
 "nbformat_minor": 5
}
