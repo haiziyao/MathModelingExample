{
 "cells": [
  {
   "cell_type": "markdown",
   "id": "55f51acb-0806-41fc-bccf-38689107c27f",
   "metadata": {
    "jp-MarkdownHeadingCollapsed": true
   },
   "source": [
    "#### **判别分析法**"
   ]
  },
  {
   "cell_type": "markdown",
   "id": "9eecfa05-9057-4127-84ce-64a1c315e284",
   "metadata": {},
   "source": [
    "* **距离判别法**\n",
    "    距离判别法就是建立待判定对象到A的距离 d(ac, Ai),然后根据距离最近原则进行判别, 即判别函数 W(i, æ) = d(x, A;). 若 W (k, æ) = min{W(i,2)1,2,., r}, x∈ Ak.距离 d(x, A4) 一般采用 Mahalanobis 距离 (马氏距离).\n",
    "![](./img/Snipaste_2025-07-09_12-00-53.png)"
   ]
  },
  {
   "cell_type": "code",
   "execution_count": 1,
   "id": "5ffe151b-9c94-46ef-8772-417a2d20b08b",
   "metadata": {},
   "outputs": [
    {
     "name": "stdout",
     "output_type": "stream",
     "text": [
      "马氏距离分类结果: [2. 2. 1.]\n",
      "马氏距离已知样本的误判率: 0.0\n",
      "欧氏距离分类结果: [2. 1. 2.]\n",
      "欧氏距离已知样本的误判率: 0.0\n"
     ]
    }
   ],
   "source": [
    "import numpy as np\n",
    "from sklearn.neighbors import KNeighborsClassifier\n",
    "\n",
    "# 已知样本数据（15个样本，每个样本2个特征）\n",
    "x0 = np.array([\n",
    "    [1.24, 1.27], [1.36, 1.74], [1.38, 1.64], [1.38, 1.82], [1.38, 1.90],\n",
    "    [1.40, 1.70], [1.48, 1.82], [1.54, 1.82], [1.56, 2.08], [1.14, 1.78],\n",
    "    [1.18, 1.96], [1.20, 1.86], [1.26, 2.00], [1.28, 2.00], [1.30, 1.96]\n",
    "])\n",
    "\n",
    "# 待分类样本（3个样本）\n",
    "x = np.array([\n",
    "    [1.24, 1.80], [1.28, 1.84], [1.40, 2.04]\n",
    "])\n",
    "\n",
    "# 已知样本的类别标签（前9个为类别1，后6个为类别2）\n",
    "g = np.hstack([np.ones(9), 2 * np.ones(6)])\n",
    "\n",
    "# 计算协方差矩阵（用于马氏距离）\n",
    "v = np.cov(x0.T)\n",
    "\n",
    "# 使用马氏距离的KNN分类器\n",
    "# 这里的n_neighbors这个参数比较难理解，建议自己去查一下\n",
    "knn = KNeighborsClassifier(n_neighbors=2, metric='mahalanobis', metric_params={'V': v})\n",
    "knn.fit(x0, g)\n",
    "pre = knn.predict(x)\n",
    "print(\"马氏距离分类结果:\", pre)\n",
    "print(\"马氏距离已知样本的误判率:\", 1 - knn.score(x0, g))   \n",
    "\n",
    "# 使用欧氏距离的KNN分类器\n",
    "knn2 = KNeighborsClassifier(n_neighbors=2)  # 默认metric='euclidean'\n",
    "knn2.fit(x0, g)\n",
    "pre2 = knn2.predict(x)\n",
    "print(\"欧氏距离分类结果:\", pre2)\n",
    "print(\"欧氏距离已知样本的误判率:\", 1 - knn2.score(x0, g))  "
   ]
  },
  {
   "cell_type": "markdown",
   "id": "adb32872-cc19-4d7d-bffd-4567e85b8580",
   "metadata": {},
   "source": [
    "![](./img/Snipaste_2025-07-09_12-25-07.png)"
   ]
  },
  {
   "cell_type": "code",
   "execution_count": 2,
   "id": "9411575f-356f-4b3f-8b26-b8d44972a4af",
   "metadata": {},
   "outputs": [
    {
     "name": "stdout",
     "output_type": "stream",
     "text": [
      "马氏距离分类结果: [1 1]\n",
      "马氏距离已知样本的误判率: 0.15000000000000002\n"
     ]
    }
   ],
   "source": [
    "import numpy as np\n",
    "import pandas as pd\n",
    "from sklearn.neighbors import KNeighborsClassifier\n",
    "a = pd.read_excel(\"./10.1心电图数据.xlsx\")\n",
    "b = a.values\n",
    " \n",
    "x0 = b[:-2,1:-1].astype(float)\n",
    "x = b[-2:,1:-1]\n",
    "g = b[:-2,-1:].astype(int).ravel()\n",
    "v = np.cov(x0.T)\n",
    "\n",
    "# 使用马氏距离的KNN分类器\n",
    "# 这里的n_neighbors这个参数比较难理解，建议自己去查一下\n",
    "knn = KNeighborsClassifier(n_neighbors=3, metric='mahalanobis', metric_params={'V': v})\n",
    "knn.fit(x0, g)\n",
    "pre = knn.predict(x)\n",
    "print(\"马氏距离分类结果:\", pre)\n",
    "print(\"马氏距离已知样本的误判率:\", 1 - knn.score(x0, g))  "
   ]
  },
  {
   "cell_type": "markdown",
   "id": "227ce075-4d60-46fd-ac35-939364724146",
   "metadata": {},
   "source": [
    "* **Fisher判别法**"
   ]
  },
  {
   "cell_type": "code",
   "execution_count": 3,
   "id": "1984f68c-17e9-4a1e-ae07-1c0749f49457",
   "metadata": {},
   "outputs": [
    {
     "name": "stdout",
     "output_type": "stream",
     "text": [
      "判别结果为: [2. 2. 2.]\n",
      "已知样本的误判率为: 0.0\n"
     ]
    }
   ],
   "source": [
    "# 11.1题  你别管看懂了算法没有,我只能说  会抄\n",
    "import numpy as np\n",
    "from sklearn.discriminant_analysis import LinearDiscriminantAnalysis as LDA\n",
    "\n",
    "# 已知样本数据（15个样本，每个样本2个特征）\n",
    "x0 = np.array([\n",
    "    [1.24, 1.27], [1.36, 1.74], [1.38, 1.64], [1.38, 1.82], [1.38, 1.90],\n",
    "    [1.40, 1.70], [1.48, 1.82], [1.54, 1.82], [1.56, 2.08], [1.14, 1.78],\n",
    "    [1.18, 1.96], [1.20, 1.86], [1.26, 2.00], [1.28, 2.00], [1.30, 1.96]\n",
    "])\n",
    "# 待分类样本（3个样本）\n",
    "x = np.array([[1.24, 1.80], [1.28, 1.84], [1.40, 2.04]])\n",
    "# 已知样本的类别标签（前9个为类别1，后6个为类别2）\n",
    "g = np.hstack([np.ones(9), 2 * np.ones(6)])\n",
    "\n",
    "clf = LDA()\n",
    "clf.fit(x0,g)\n",
    "print(\"判别结果为:\", clf.predict (x))\n",
    "print(\"已知样本的误判率为:\",1-clf.score (x0,g))"
   ]
  },
  {
   "cell_type": "code",
   "execution_count": 4,
   "id": "e3fb9171-2c41-4758-b62b-f92ca191a197",
   "metadata": {},
   "outputs": [
    {
     "name": "stdout",
     "output_type": "stream",
     "text": [
      "判别结果为: [1 2]\n",
      "已知样本的误判率为: 0.0\n"
     ]
    }
   ],
   "source": [
    "import numpy as np\n",
    "import pandas as pd\n",
    "from sklearn.neighbors import KNeighborsClassifier\n",
    "a = pd.read_excel(\"./10.1心电图数据.xlsx\")\n",
    "b = a.values\n",
    "x0 = b[:-2,1:-1].astype(float)\n",
    "x = b[-2:,1:-1]\n",
    "g = b[:-2,-1:].astype(int).ravel()\n",
    "clf = LDA()\n",
    "clf.fit(x0,g)\n",
    "print(\"判别结果为:\", clf.predict (x))\n",
    "print(\"已知样本的误判率为:\",1-clf.score (x0,g))"
   ]
  },
  {
   "cell_type": "markdown",
   "id": "a705dfd5-b0a6-4b84-af34-47b4fe7ff30a",
   "metadata": {},
   "source": [
    "* **贝叶斯判别法**"
   ]
  },
  {
   "cell_type": "code",
   "execution_count": null,
   "id": "1453e450-3635-4fb1-94d5-d40f4c374e17",
   "metadata": {},
   "outputs": [],
   "source": [
    "import numpy as np\n",
    "from sklearn.naive_bayes import GaussianNB\n",
    "# 已知样本数据（15个样本，每个样本2个特征）\n",
    "x0 = np.array([\n",
    "    [1.24, 1.27], [1.36, 1.74], [1.38, 1.64], [1.38, 1.82], [1.38, 1.90],\n",
    "    [1.40, 1.70], [1.48, 1.82], [1.54, 1.82], [1.56, 2.08], [1.14, 1.78],\n",
    "    [1.18, 1.96], [1.20, 1.86], [1.26, 2.00], [1.28, 2.00], [1.30, 1.96]\n",
    "])\n",
    "# 待分类样本（3个样本）\n",
    "x = np.array([\n",
    "    [1.24, 1.80], [1.28, 1.84], [1.40, 2.04]\n",
    "])\n",
    "# 已知样本的类别标签（前9个为类别1，后6个为类别2）\n",
    "g = np.hstack([np.ones(9), 2 * np.ones(6)])\n",
    "\n",
    "clf = GaussianNB()\n",
    "clf.fit(x0,g)\n",
    "print(\"判别结果为:\", clf.predict (x))\n",
    "print(\"已知样本的误判率为:\",1-clf.score (x0,g))"
   ]
  },
  {
   "cell_type": "code",
   "execution_count": null,
   "id": "75698e7a-ac1c-4b00-b376-a1b6232603de",
   "metadata": {},
   "outputs": [],
   "source": [
    "import numpy as np\n",
    "import pandas as pd\n",
    "from sklearn.neighbors import KNeighborsClassifier\n",
    "a = pd.read_excel(\"./10.1心电图数据.xlsx\")\n",
    "b = a.values\n",
    "x0 = b[:-2,1:-1].astype(float)\n",
    "x = b[-2:,1:-1]\n",
    "g = b[:-2,-1:].astype(int).ravel()\n",
    "clf = GaussianNB()\n",
    "clf.fit(x0,g)\n",
    "print(\"判别结果为:\", clf.predict (x))\n",
    "print(\"已知样本的误判率为:\",1-clf.score (x0,g))"
   ]
  },
  {
   "cell_type": "markdown",
   "id": "b5838bbd-d280-49ac-8307-016a8f333025",
   "metadata": {},
   "source": [
    "* **判别准则的评价**\n",
    "    * **回代误判率**\n",
    "    * **交叉误判率**"
   ]
  },
  {
   "cell_type": "code",
   "execution_count": 7,
   "id": "cacb0ca7-0da0-47cc-ae38-357f5624fbd1",
   "metadata": {},
   "outputs": [
    {
     "name": "stdout",
     "output_type": "stream",
     "text": [
      "准确率为[0.9 0.8]\n"
     ]
    }
   ],
   "source": [
    "#线性交叉误判率\n",
    "import numpy as np\n",
    "import pandas as pd\n",
    "from sklearn.discriminant_analysis import LinearDiscriminantAnalysis\n",
    "from sklearn.model_selection import cross_val_score\n",
    "a = pd.read_excel(\"./10.1心电图数据.xlsx\")\n",
    "b = a.values\n",
    "x0 = b[:-2,1:-1].astype(float)\n",
    "g = b[:-2,-1:].astype(int).ravel()\n",
    "model = LinearDiscriminantAnalysis()\n",
    "print(f\"准确率为{cross_val_score(model,x0,g,cv=2)}\")"
   ]
  },
  {
   "cell_type": "markdown",
   "id": "2b36884c-6c90-4fe5-9670-329016f5b496",
   "metadata": {},
   "source": [
    "#### **主成分分析法**\n",
    "[查看reference](./Method_Reference/PCA.ipynb)\n",
    "* **主成分的目的是降维, 减少变量的个数,因此一般选取少量的主成分(一般不超过6个),只要累积贡献率超过85%即可**"
   ]
  },
  {
   "cell_type": "markdown",
   "id": "d6dff5e8-56ee-4130-9329-cd7e563ebbc9",
   "metadata": {},
   "source": [
    "![](./img/Snipaste_2025-07-09_14-05-08.png)"
   ]
  },
  {
   "cell_type": "code",
   "execution_count": 11,
   "id": "32706324-43b5-42c3-b2bb-b483d272eb07",
   "metadata": {},
   "outputs": [
    {
     "name": "stdout",
     "output_type": "stream",
     "text": [
      "特征值为: [110.00413886  25.32447973   1.56804807]\n",
      "各主成分的贡献率: [0.80355601 0.18498975 0.01145425]\n",
      "奇异值为: [31.46485738 15.09703009  3.75665179]\n",
      "各主成分的系数: \n",
      " [[ 0.55915657  0.42128705  0.71404562]\n",
      " [ 0.82767368 -0.33348264 -0.45138188]\n",
      " [ 0.04796048  0.84338992 -0.53515721]]\n",
      "下面直接计算特征值和特征向量,和库函数进行对比\n",
      "------------------\n",
      "\n",
      "特征值为: [110.00413886  25.32447973   1.56804807]\n",
      "特征向量为:\n",
      " [[ 0.55915657  0.82767368 -0.04796048]\n",
      " [ 0.42128705 -0.33348264 -0.84338992]\n",
      " [ 0.71404562 -0.45138188  0.53515721]]\n",
      "各主成分的贡献率为: [0.80355601 0.18498975 0.01145425]\n"
     ]
    }
   ],
   "source": [
    "import numpy as np\n",
    "from sklearn.decomposition import PCA\n",
    "# 根据表11.3数据创建NumPy数组\n",
    "# 列顺序：序号 | 身高(cm) | 胸围(cm) | 体重(kg)\n",
    "data = np.array([\n",
    "    [1, 149.5, 69.5, 38.5],    # 样本1\n",
    "    [2, 162.5, 77.0, 55.5],     # 样本2\n",
    "    [3, 162.7, 78.5, 50.8],     # 样本3\n",
    "    [4, 162.2, 87.5, 65.5],     # 样本4\n",
    "    [5, 156.5, 74.5, 49.0],     # 样本5\n",
    "    [6, 156.1, 74.5, 45.5],     # 样本6\n",
    "    [7, 172.0, 76.5, 51.0],     # 样本7\n",
    "    [8, 173.2, 81.5, 59.5],     # 样本8\n",
    "    [9, 159.5, 74.5, 43.5],     # 样本9\n",
    "    [10, 157.7, 79.0, 53.5]     # 样本10\n",
    "])\n",
    "\n",
    "b=data[:,1:4] #构造数据矩阵\n",
    "md = PCA().fit(b)\n",
    "print(\"特征值为:\",md.explained_variance_)\n",
    "print(\"各主成分的贡献率:\",md.explained_variance_ratio_)\n",
    "print(\"奇异值为:\",md.singular_values_)\n",
    "print(\"各主成分的系数: \\n\",md.components_) #每行是一个主成分\n",
    "\n",
    "print(\"下面直接计算特征值和特征向量,和库函数进行对比\")\n",
    "print(\"------------------\\n\")\n",
    "cf=np.cov(b.T) #计算协方差阵\n",
    "c, d=np.linalg.eig(cf) #求特征值和特征向量\n",
    "print(\"特征值为:\",c)\n",
    "print(\"特征向量为:\\n\",d)\n",
    "print(\"各主成分的贡献率为:\",c/np.sum(c))"
   ]
  },
  {
   "cell_type": "markdown",
   "id": "ef6ce6e7-3cb2-41f6-8e00-9f73118ce8d5",
   "metadata": {},
   "source": [
    "#### **因子分析**"
   ]
  },
  {
   "cell_type": "markdown",
   "id": "cbd58c10-0730-4005-8748-dbb3ead13ac9",
   "metadata": {
    "jp-MarkdownHeadingCollapsed": true
   },
   "source": [
    "* **因子分析**\n",
    "![](./img/Snipaste_2025-07-09_15-43-51.png)"
   ]
  },
  {
   "cell_type": "code",
   "execution_count": 14,
   "id": "56afef26-c731-4bd4-9412-118081f93ff6",
   "metadata": {},
   "outputs": [
    {
     "name": "stdout",
     "output_type": "stream",
     "text": [
      "val: [0.85358984 1.54641016 0.6       ] \n",
      "---------\n",
      " [[-8.20490756e-01  5.71659793e-01  2.09900719e-17]\n",
      " [ 3.00320460e-01  7.80901800e-01  5.47722558e-01]\n",
      " [-3.00320460e-01 -7.80901800e-01  5.47722558e-01]] \n",
      "----------\n",
      " [[-8.20490756e-01  5.71659793e-01  2.09900719e-17]\n",
      " [ 3.00320460e-01  7.80901800e-01  5.47722558e-01]\n",
      " [-3.00320460e-01 -7.80901800e-01  5.47722558e-01]]\n"
     ]
    },
    {
     "name": "stdin",
     "output_type": "stream",
     "text": [
      "请输入选择公共因子的个数: 3\n"
     ]
    },
    {
     "name": "stdout",
     "output_type": "stream",
     "text": [
      "对x的贡献为: [0.85358984 1.54641016 0.6       ]\n",
      "共同度为: [1. 1. 1.]\n"
     ]
    }
   ],
   "source": [
    "import numpy as np \n",
    "r = np.array([[1,1/5,-1/5],[1/5,1,-2/5],[-1/5,-2/5,1]])\n",
    "[eig_val,eig_vec] = np.linalg.eig(r)\n",
    "A1 = np.tile(np.sqrt(eig_val),(3,1))*eig_vec\n",
    "A2 = eig_vec*np.sqrt(eig_val)\n",
    "print('val:',eig_val,'\\n---------\\n',A1,'\\n----------\\n',A2)\n",
    "num=int (input(\"请输入选择公共因子的个数:\"))\n",
    "A=A1[:, : num] #提出num个因子的载荷矩阵\n",
    "Ac=np.sum(A**2, axis=0) #逐列元素求和\n",
    "Ar=np.sum(A**2, axis=1) #逐行元素求和\n",
    "print(\"对x的贡献为:\", Ac)\n",
    "print(\"共同度为:\", Ar)\n"
   ]
  },
  {
   "cell_type": "markdown",
   "id": "33ced801-083c-4176-8d61-095a86b29b00",
   "metadata": {},
   "source": [
    "* **因子旋转**"
   ]
  },
  {
   "cell_type": "markdown",
   "id": "a51d36f6-54c2-43b3-b823-f1e041e3f7a0",
   "metadata": {},
   "source": [
    "* **因子得分**"
   ]
  },
  {
   "cell_type": "markdown",
   "id": "3c45318b-21ee-4a62-8989-a632e69a51c0",
   "metadata": {},
   "source": [
    "#### **相关系数矩阵计算**\n",
    "**标准化后的数据​​：协方差矩阵就是相关系数矩阵 R，两者数学等价**\n",
    "\n",
    "**所以，相关系数矩阵可以直接用来主成分分析**"
   ]
  },
  {
   "cell_type": "code",
   "execution_count": 16,
   "id": "f060ce79-7ca5-4433-ae91-a1f8bce8d6ba",
   "metadata": {},
   "outputs": [
    {
     "name": "stdout",
     "output_type": "stream",
     "text": [
      "标准化后的数据矩阵D（前5行）:\n",
      " [[ 1.51  0.65 -0.51 -1.51  0.06  1.32]\n",
      " [-0.22  0.17 -0.82 -1.2   0.33  1.1 ]\n",
      " [ 1.6   0.25 -1.45 -0.03 -1.6   0.22]\n",
      " [ 0.73  1.38 -1.52 -0.14  1.11 -0.67]\n",
      " [ 0.04  0.33  0.43  0.6  -0.38 -0.45]]\n",
      "\n",
      "相关系数矩阵R:\n",
      " [[ 1.   -0.17 -0.    0.04  0.01  0.01]\n",
      " [-0.17  1.   -0.13  0.03  0.09 -0.01]\n",
      " [-0.   -0.13  1.    0.15 -0.09 -0.1 ]\n",
      " [ 0.04  0.03  0.15  1.   -0.06 -0.23]\n",
      " [ 0.01  0.09 -0.09 -0.06  1.    0.19]\n",
      " [ 0.01 -0.01 -0.1  -0.23  0.19  1.  ]]\n",
      "\n",
      "NumPy计算结果验证（应完全相同）:\n",
      " [[ 1.   -0.17 -0.    0.04  0.01  0.01]\n",
      " [-0.17  1.   -0.13  0.03  0.09 -0.01]\n",
      " [-0.   -0.13  1.    0.15 -0.09 -0.1 ]\n",
      " [ 0.04  0.03  0.15  1.   -0.06 -0.23]\n",
      " [ 0.01  0.09 -0.09 -0.06  1.    0.19]\n",
      " [ 0.01 -0.01 -0.1  -0.23  0.19  1.  ]]\n"
     ]
    }
   ],
   "source": [
    "import numpy as np\n",
    "\n",
    "def standardize_data(data):\n",
    "    \"\"\"\n",
    "    对数据矩阵进行Z-score标准化\n",
    "    :param data: 原始数据矩阵 (n_samples × n_features)\n",
    "    :return: 标准化后的数据矩阵\n",
    "    \"\"\"\n",
    "    mean = np.mean(data, axis=0)  # 计算每列的均值μ_j\n",
    "    std = np.std(data, axis=0, ddof=1)  # 计算无偏标准差s_j（分母用n-1）\n",
    "    standardized_data = (data - mean) / std\n",
    "    return standardized_data\n",
    "\n",
    "# 示例数据 (52个学生 × 6门课程)\n",
    "np.random.seed(42)\n",
    "data = np.random.randint(60, 100, size=(52, 6))  # 模拟成绩数据\n",
    "\n",
    "# 标准化\n",
    "D = standardize_data(data)\n",
    "print(\"标准化后的数据矩阵D（前5行）:\\n\", np.round(D[:5], 2))\n",
    "\n",
    "def correlation_matrix(D):\n",
    "    \"\"\"\n",
    "    根据标准化数据矩阵计算相关系数矩阵\n",
    "    :param D: 标准化后的数据矩阵\n",
    "    :return: 相关系数矩阵 (n_features × n_features)\n",
    "    \"\"\"\n",
    "    n = D.shape[1]\n",
    "    R = np.zeros((n, n))\n",
    "    for i in range(n):\n",
    "        for j in range(n):\n",
    "            R[i,j] = np.sum(D[:,i] * D[:,j]) / (D.shape[0] - 1)\n",
    "    return R\n",
    "\n",
    "# 计算相关系数矩阵\n",
    "R = correlation_matrix(D)\n",
    "print(\"\\n相关系数矩阵R:\\n\", np.round(R, 2))\n",
    "# 使用NumPy的corrcoef验证\n",
    "R_numpy = np.corrcoef(D, rowvar=False)\n",
    "print(\"\\nNumPy计算结果验证（应完全相同）:\\n\", np.round(R_numpy, 2))"
   ]
  },
  {
   "cell_type": "markdown",
   "id": "c847f7da-34a4-4a59-9867-cb91e042422e",
   "metadata": {},
   "source": [
    "#### ***这里挂一张图片，理解一下PCA和因子分析的区别***\n",
    "![](./img/Snipaste_2025-07-09_15-33-29.png)"
   ]
  },
  {
   "cell_type": "markdown",
   "id": "8965ff97-2e06-4c11-bcfe-4951c5392c20",
   "metadata": {},
   "source": [
    "#### **聚类分析**\n",
    "**聚类分析可以分为Q型聚类(样本聚类)、R型聚类 (指标聚类)**\n",
    "\n",
    "**聚类分析内容非常丰富,有层次聚类法、有序样品聚类法、动态聚类法、模糊聚类法、图论聚类法等,本节主要介绍常用的层次聚类、K 均值聚类**"
   ]
  },
  {
   "cell_type": "markdown",
   "id": "c3e731f9-cf53-4d11-887a-80f3924f7d89",
   "metadata": {
    "jp-MarkdownHeadingCollapsed": true
   },
   "source": [
    "##### **规格化**\n",
    "##### **标准化**\n"
   ]
  },
  {
   "cell_type": "code",
   "execution_count": 20,
   "id": "1374157a-3b87-4406-ac4e-4caab380a146",
   "metadata": {},
   "outputs": [
    {
     "name": "stdout",
     "output_type": "stream",
     "text": [
      "Min-Max规格化结果:\n",
      " [[0.5        0.33333333]\n",
      " [1.         1.        ]\n",
      " [0.         0.        ]]\n"
     ]
    }
   ],
   "source": [
    "import numpy as np\n",
    "\n",
    "def min_max_normalize(data):\n",
    "    \"\"\"\n",
    "    Min-Max规格化到[0,1]范围\n",
    "    :param data: 原始数据矩阵 (n_samples × n_features)\n",
    "    :return: 规格化后的数据\n",
    "    \"\"\"\n",
    "    min_vals = np.min(data, axis=0)\n",
    "    max_vals = np.max(data, axis=0)\n",
    "    normalized = (data - min_vals) / (max_vals - min_vals + 1e-8)  # 避免除零\n",
    "    return normalized\n",
    "\n",
    "# 示例数据\n",
    "data = np.array([[170, 60], [180, 70], [160, 55]])\n",
    "print(\"Min-Max规格化结果:\\n\", min_max_normalize(data))"
   ]
  },
  {
   "cell_type": "code",
   "execution_count": 21,
   "id": "7e733e49-8d59-46d1-89db-da7887e8fba0",
   "metadata": {},
   "outputs": [
    {
     "name": "stdout",
     "output_type": "stream",
     "text": [
      "Z-score标准化结果:\n",
      " [[ 0.         -0.21821789]\n",
      " [ 1.          1.09108945]\n",
      " [-1.         -0.87287156]]\n"
     ]
    }
   ],
   "source": [
    "def z_score_standardize(data):\n",
    "    \"\"\"\n",
    "    Z-score标准化（均值为0，标准差为1）\n",
    "    :param data: 原始数据矩阵\n",
    "    :return: 标准化后的数据\n",
    "    \"\"\"\n",
    "    mean = np.mean(data, axis=0)\n",
    "    std = np.std(data, axis=0, ddof=1)  # 无偏估计（分母n-1）\n",
    "    standardized = (data - mean) / (std + 1e-8)  # 避免除零\n",
    "    return standardized\n",
    "data = np.array([[170, 60], [180, 70], [160, 55]])\n",
    "print(\"Z-score标准化结果:\\n\", z_score_standardize(data))"
   ]
  },
  {
   "cell_type": "markdown",
   "id": "9d85c404-c1cd-49c1-a131-7956a241a510",
   "metadata": {},
   "source": [
    "* **样品间亲疏程度的测度计算**\n",
    "    * **相似系数**\n",
    "        * **夹角余弦**\n",
    "        * **皮尔逊相关系数**\n",
    "    * **距离**\n",
    "        * **闵氏(Minkowski) 距离**\n",
    "        * **马氏 (Mahalanobis) 距离**"
   ]
  },
  {
   "cell_type": "markdown",
   "id": "2f1c34f4-dec5-403d-842b-b6f5285cbd46",
   "metadata": {
    "jp-MarkdownHeadingCollapsed": true
   },
   "source": [
    "##### **基于类间距离的层次聚类**\n",
    "* **最短距离法**\n",
    "* **最长距离法**\n",
    "![](./img/Snipaste_2025-07-09_16-30-58.png)"
   ]
  },
  {
   "cell_type": "code",
   "execution_count": 31,
   "id": "f84166de-1723-4d13-8a05-36acc6e7cd82",
   "metadata": {},
   "outputs": [
    {
     "name": "stdout",
     "output_type": "stream",
     "text": [
      "[[ 4.          5.          0.16258132  2.        ]\n",
      " [ 1.          3.          0.27853564  2.        ]\n",
      " [ 2.          9.          0.35618248  3.        ]\n",
      " [ 6.          7.          0.37626539  2.        ]\n",
      " [ 8.         10.          0.47781458  5.        ]\n",
      " [11.         12.          1.01602914  7.        ]]\n"
     ]
    },
    {
     "data": {
      "image/png": "[encoded data removed]",
      "text/plain": [
       "<Figure size 640x480 with 1 Axes>"
      ]
     },
     "metadata": {},
     "output_type": "display_data"
    }
   ],
   "source": [
    "#最短距离法\n",
    "import numpy as np \n",
    "from sklearn import preprocessing as pp\n",
    "import scipy.cluster.hierarchy as sch\n",
    "import matplotlib.pyplot as plt\n",
    "plt.rcParams['font.sans-serif'] = ['SimHei']  # 设置中文字体\n",
    "plt.rcParams['axes.unicode_minus'] = False  # 解决负号显示\n",
    "\n",
    "skarn_data = np.array([\n",
    "    [2.9909, 3.2044, 2.8392, 2.5315, 2.5897, 2.9600, 3.1184],  # Cu含量\n",
    "    [0.3111, 0.5348, 0.5696, 0.4528, 0.3010, 3.0480, 2.8395],  # W含量\n",
    "    [0.5324, 0.7718, 0.7614, 0.4893, 0.2735, 1.4997, 1.9850]   # Mo含量\n",
    "])\n",
    "b = pp.minmax_scale(skarn_data.T)\n",
    "d = sch.distance.pdist(b)  \n",
    "\n",
    "dd = sch.distance.squareform(d)\n",
    "\n",
    "\n",
    "z = sch.linkage(d)\n",
    "z_copy =z.copy()\n",
    "z_copy[:,0:2]+=1\n",
    "print(z_copy)\n",
    "s = [str(i+1) for i in range(7)]   #注意这里后续肯定要改\n",
    "sch.dendrogram (z, labels=s); plt.show() #画聚类图"
   ]
  },
  {
   "cell_type": "code",
   "execution_count": 32,
   "id": "e93a1223-14ec-41d9-b896-56baaace6056",
   "metadata": {},
   "outputs": [
    {
     "name": "stdout",
     "output_type": "stream",
     "text": [
      "[[ 4.          5.          0.16258132  2.        ]\n",
      " [ 1.          3.          0.27853564  2.        ]\n",
      " [ 2.          9.          0.35618248  3.        ]\n",
      " [ 6.          7.          0.37626539  2.        ]\n",
      " [ 8.         10.          0.47781458  5.        ]\n",
      " [11.         12.          1.01602914  7.        ]]\n"
     ]
    },
    {
     "data": {
      "image/png": "[encoded data removed]",
      "text/plain": [
       "<Figure size 640x480 with 1 Axes>"
      ]
     },
     "metadata": {},
     "output_type": "display_data"
    }
   ],
   "source": [
    "#最长距离法\n",
    "import numpy as np\n",
    "from sklearn import preprocessing as pp\n",
    "import scipy.cluster.hierarchy as sch\n",
    "import matplotlib.pyplot as plt\n",
    "plt.rcParams['font.sans-serif'] = ['SimHei']  # 设置中文字体\n",
    "plt.rcParams['axes.unicode_minus'] = False  # 解决负号显示\n",
    "\n",
    "skarn_data = np.array([\n",
    "    [2.9909, 3.2044, 2.8392, 2.5315, 2.5897, 2.9600, 3.1184],  # Cu含量\n",
    "    [0.3111, 0.5348, 0.5696, 0.4528, 0.3010, 3.0480, 2.8395],  # W含量\n",
    "    [0.5324, 0.7718, 0.7614, 0.4893, 0.2735, 1.4997, 1.9850]   # Mo含量\n",
    "    ])\n",
    "b = pp.minmax_scale(skarn_data.T)\n",
    "d = sch.distance.pdist(b) \n",
    "z = sch.linkage(d)\n",
    "z_copy =z.copy()\n",
    "z_copy[:,0:2]+=1\n",
    "print(z_copy)\n",
    "s = [str(i+1) for i in range(7)]   #注意这里后续肯定要改\n",
    "sch.dendrogram (z, labels=s); plt.show() #画聚类图"
   ]
  },
  {
   "cell_type": "markdown",
   "id": "901f69c1-feda-4ee2-8d14-ef6d9810b134",
   "metadata": {},
   "source": [
    "##### **K均值聚类**"
   ]
  },
  {
   "cell_type": "code",
   "execution_count": 81,
   "id": "5ce80d35-0186-41f8-9356-765f6fac3fc0",
   "metadata": {},
   "outputs": [
    {
     "name": "stdout",
     "output_type": "stream",
     "text": [
      "[2 2 2 1] \n",
      "-----------\n",
      " [[3.         1.        ]\n",
      " [1.26666667 3.        ]]\n"
     ]
    }
   ],
   "source": [
    "import numpy as np\n",
    "from sklearn.cluster import KMeans\n",
    "a=np.array([[1, 3], [1.5, 3.2], [1.3, 2.8], [3, 1]])\n",
    "md=KMeans(n_clusters=2)\n",
    "md.fit(a) #求解模型\n",
    "#构建模型\n",
    "labels=1+md.labels_ #提取聚类标签\n",
    "centers=md.cluster_centers_ #提取聚类中心,每一行是一个聚类中心\n",
    "print (labels, '\\n-----------\\n',centers)"
   ]
  },
  {
   "cell_type": "markdown",
   "id": "e5e81edc-d5ff-47ff-b350-fef5eacce470",
   "metadata": {},
   "source": [
    "**K 均值聚类法最佳簇数值的确定**\n",
    "* **簇內离差平方和拐点法**\n",
    "* **轮廓系数法**"
   ]
  },
  {
   "cell_type": "code",
   "execution_count": null,
   "id": "057b63d7-7f03-469c-acd8-37811b45d7a0",
   "metadata": {},
   "outputs": [],
   "source": []
  },
  {
   "cell_type": "code",
   "execution_count": null,
   "id": "69f23f91-e9d8-4d55-9299-3ff85e3e0691",
   "metadata": {},
   "outputs": [],
   "source": []
  },
  {
   "cell_type": "code",
   "execution_count": null,
   "id": "9f6834e3-4082-48f5-9666-6a0c29f9af12",
   "metadata": {},
   "outputs": [],
   "source": []
  }
 ],
 "metadata": {
  "kernelspec": {
   "display_name": "Python [conda env:base] *",
   "language": "python",
   "name": "conda-base-py"
  },
  "language_info": {
   "codemirror_mode": {
    "name": "ipython",
    "version": 3
   },
   "file_extension": ".py",
   "mimetype": "text/x-python",
   "name": "python",
   "nbconvert_exporter": "python",
   "pygments_lexer": "ipython3",
   "version": "3.12.7"
  }
 },
 "nbformat": 4,
 "nbformat_minor": 5
}
